{
  "nbformat": 4,
  "nbformat_minor": 0,
  "metadata": {
    "kernelspec": {
      "display_name": "Python 3",
      "language": "python",
      "name": "python3"
    },
    "language_info": {
      "codemirror_mode": {
        "name": "ipython",
        "version": 3
      },
      "file_extension": ".py",
      "mimetype": "text/x-python",
      "name": "python",
      "nbconvert_exporter": "python",
      "pygments_lexer": "ipython3",
      "version": "3.7.3"
    },
    "colab": {
      "name": "Copy of mapreduce2_final_exercise_IPs.ipynb",
      "provenance": [],
      "include_colab_link": true
    }
  },
  "cells": [
    {
      "cell_type": "markdown",
      "metadata": {
        "id": "view-in-github",
        "colab_type": "text"
      },
      "source": [
        "<a href=\"https://colab.research.google.com/github/Migaalee/hadoop/blob/main/Copy_of_mapreduce2_final_exercise_IPs.ipynb\" target=\"_parent\"><img src=\"https://colab.research.google.com/assets/colab-badge.svg\" alt=\"Open In Colab\"/></a>"
      ]
    },
    {
      "cell_type": "markdown",
      "metadata": {
        "id": "4rFmFXHdb60o"
      },
      "source": [
        "# Python MapReduce Exercise 2 _IPs\n",
        "\n",
        "In the notebook, you should create a map-reduce program that count the number of occurrence of each word.\n",
        "\n",
        "In this exercise, hadoop runs in standalone mode and reads data from the local filesystem.\n"
      ]
    },
    {
      "cell_type": "markdown",
      "metadata": {
        "id": "96GxvFLGb60r"
      },
      "source": [
        "### Download the dataset "
      ]
    },
    {
      "cell_type": "code",
      "metadata": {
        "scrolled": true,
        "id": "Nykl22FQb60s",
        "outputId": "613f9ab1-75dd-4b36-ca9d-c603aa53f066"
      },
      "source": [
        "!wget -O web.txt https://www.dropbox.com/s/0r8902uj9yum7dg/web.log?dl=0"
      ],
      "execution_count": null,
      "outputs": [
        {
          "output_type": "stream",
          "text": [
            "--2020-10-12 15:42:47--  https://www.dropbox.com/s/0r8902uj9yum7dg/web.log?dl=0\n",
            "Resolving www.dropbox.com (www.dropbox.com)... 162.125.68.1, 2620:100:6024:1::a27d:4401\n",
            "Connecting to www.dropbox.com (www.dropbox.com)|162.125.68.1|:443... connected.\n",
            "HTTP request sent, awaiting response... 301 Moved Permanently\n",
            "Location: /s/raw/0r8902uj9yum7dg/web.log [following]\n",
            "--2020-10-12 15:42:48--  https://www.dropbox.com/s/raw/0r8902uj9yum7dg/web.log\n",
            "Reusing existing connection to www.dropbox.com:443.\n",
            "HTTP request sent, awaiting response... 302 Found\n",
            "Location: https://uca38dbefe906d1a7119dd672e05.dl.dropboxusercontent.com/cd/0/inline/BBJWTh9SOzMwpSlMjSezBodf6RLKgEBwKUjB5o0rhlaRGCmZrHDdDMfjy2yGxK737qoGkYqrZotnkWwX7l0G5ohxzUzJQE4_sgW-Zzp7GXaqvg/file# [following]\n",
            "--2020-10-12 15:42:49--  https://uca38dbefe906d1a7119dd672e05.dl.dropboxusercontent.com/cd/0/inline/BBJWTh9SOzMwpSlMjSezBodf6RLKgEBwKUjB5o0rhlaRGCmZrHDdDMfjy2yGxK737qoGkYqrZotnkWwX7l0G5ohxzUzJQE4_sgW-Zzp7GXaqvg/file\n",
            "Resolving uca38dbefe906d1a7119dd672e05.dl.dropboxusercontent.com (uca38dbefe906d1a7119dd672e05.dl.dropboxusercontent.com)... 162.125.68.15, 2620:100:6024:15::a27d:440f\n",
            "Connecting to uca38dbefe906d1a7119dd672e05.dl.dropboxusercontent.com (uca38dbefe906d1a7119dd672e05.dl.dropboxusercontent.com)|162.125.68.15|:443... connected.\n",
            "HTTP request sent, awaiting response... 200 OK\n",
            "Length: 11758533 (11M) [text/plain]\n",
            "Saving to: ‘web.txt’\n",
            "\n",
            "web.txt             100%[===================>]  11.21M  3.26MB/s    in 3.4s    \n",
            "\n",
            "2020-10-12 15:42:53 (3.26 MB/s) - ‘web.txt’ saved [11758533/11758533]\n",
            "\n"
          ],
          "name": "stdout"
        }
      ]
    },
    {
      "cell_type": "markdown",
      "metadata": {
        "id": "kZdenm7Xb60x"
      },
      "source": [
        "## Unique IPs Example\n",
        "Read the file and calculate unique IP attacks.\n"
      ]
    },
    {
      "cell_type": "markdown",
      "metadata": {
        "id": "gK_LG-iNb60y"
      },
      "source": [
        "### Mapper\n",
        "Complete with the code for the mapper."
      ]
    },
    {
      "cell_type": "code",
      "metadata": {
        "id": "d35k8herb60z",
        "outputId": "7008379f-bca4-4e50-8790-73c4495d9489"
      },
      "source": [
        "%%file mapper_IP.py\n",
        "#!/usr/bin/env python\n",
        "\n",
        "\n",
        "# import sys\n",
        "import sys\n",
        "# import string library function  \n",
        "import string  \n",
        "\n",
        "# input comes from STDIN (standard input)\n",
        "for line in sys.stdin:\n",
        "    # remove leading and trailing whitespace\n",
        "    line = line.strip()\n",
        "    # remove punctuation characters\n",
        "    # split the line into words\n",
        "    words = line.split()\n",
        "    for word in words:\n",
        "        d=words[0]\n",
        "        URL=words[1]\n",
        "        print('%s\\t%s' % (URL, d[:-10]))\n"
      ],
      "execution_count": null,
      "outputs": [
        {
          "output_type": "stream",
          "text": [
            "Overwriting mapper_IP.py\n"
          ],
          "name": "stdout"
        }
      ]
    },
    {
      "cell_type": "markdown",
      "metadata": {
        "id": "iEjErRX6b606"
      },
      "source": [
        "### Reducer"
      ]
    },
    {
      "cell_type": "code",
      "metadata": {
        "id": "I0TYz57kb607",
        "outputId": "4202131d-7e90-467c-91d7-8f708e45b913"
      },
      "source": [
        "%%file reducer_IP.py\n",
        "#!/usr/bin/python\n",
        "\n",
        "import sys\n",
        "\n",
        "# input comes from STDIN\n",
        "for line in sys.stdin:\n",
        "    # remove leading and trailing whitespace\n",
        "    line = line.strip()\n",
        "\n",
        "    # parse the input we got from mapper.py\n",
        "    word, count = line.split('\\t')\n",
        "\n",
        "    unique_words=len(set(word))\n",
        "        \n",
        "print (\"unique IPs are \" + str(unique_words))"
      ],
      "execution_count": null,
      "outputs": [
        {
          "output_type": "stream",
          "text": [
            "Writing reducer_IP.py\n"
          ],
          "name": "stdout"
        }
      ]
    },
    {
      "cell_type": "markdown",
      "metadata": {
        "id": "dGFDccUZb60-"
      },
      "source": [
        "### Hadoop standalone mode execution"
      ]
    },
    {
      "cell_type": "markdown",
      "metadata": {
        "id": "KEQus1VQb60_"
      },
      "source": [
        "\n",
        "The output directory needs to be cleared..."
      ]
    },
    {
      "cell_type": "code",
      "metadata": {
        "id": "GMV9M9Mab61A"
      },
      "source": [
        "rm -rf results_IP"
      ],
      "execution_count": null,
      "outputs": []
    },
    {
      "cell_type": "markdown",
      "metadata": {
        "id": "s6kNt4YSb61E"
      },
      "source": [
        "#### Submitting the job\n",
        "\n",
        "The _hadoop_ command is used to submit the mapreduce job to the cluster..."
      ]
    },
    {
      "cell_type": "code",
      "metadata": {
        "scrolled": true,
        "id": "b5HTO9W8b61E",
        "outputId": "3c0e3dcc-37b9-4cb7-f339-530a24b95dfa"
      },
      "source": [
        "!hadoop jar /opt/hadoop-3.2.0/share/hadoop/tools/lib/hadoop-*streaming*.jar -files mapper_IP.py,reducer_IP.py -mapper mapper_IP.py -reducer reducer_IP.py -input web.txt -output results_IP"
      ],
      "execution_count": null,
      "outputs": [
        {
          "output_type": "stream",
          "text": [
            "2020-10-12 18:24:58,802 INFO impl.MetricsConfig: Loaded properties from hadoop-metrics2.properties\n",
            "2020-10-12 18:24:59,453 INFO impl.MetricsSystemImpl: Scheduled Metric snapshot period at 10 second(s).\n",
            "2020-10-12 18:24:59,453 INFO impl.MetricsSystemImpl: JobTracker metrics system started\n",
            "2020-10-12 18:24:59,561 WARN impl.MetricsSystemImpl: JobTracker metrics system already initialized!\n",
            "2020-10-12 18:25:00,497 INFO mapred.FileInputFormat: Total input files to process : 1\n",
            "2020-10-12 18:25:00,561 INFO mapreduce.JobSubmitter: number of splits:1\n",
            "2020-10-12 18:25:01,088 INFO mapreduce.JobSubmitter: Submitting tokens for job: job_local106858373_0001\n",
            "2020-10-12 18:25:01,088 INFO mapreduce.JobSubmitter: Executing with tokens: []\n",
            "2020-10-12 18:25:01,720 INFO mapred.LocalDistributedCacheManager: Localized file:/home/jovyan/work/mapper_IP.py as file:/tmp/hadoop-jovyan/mapred/local/job_local106858373_0001_dc861a46-1ef6-4afc-864c-e57772eb456e/mapper_IP.py\n",
            "2020-10-12 18:25:01,754 INFO mapred.LocalDistributedCacheManager: Localized file:/home/jovyan/work/reducer_IP.py as file:/tmp/hadoop-jovyan/mapred/local/job_local106858373_0001_2c86202a-8d0d-418b-add0-19a5e28355fa/reducer_IP.py\n",
            "2020-10-12 18:25:01,915 INFO mapreduce.Job: The url to track the job: http://localhost:8080/\n",
            "2020-10-12 18:25:01,918 INFO mapreduce.Job: Running job: job_local106858373_0001\n",
            "2020-10-12 18:25:01,934 INFO mapred.LocalJobRunner: OutputCommitter set in config null\n",
            "2020-10-12 18:25:01,937 INFO mapred.LocalJobRunner: OutputCommitter is org.apache.hadoop.mapred.FileOutputCommitter\n",
            "2020-10-12 18:25:01,956 INFO output.FileOutputCommitter: File Output Committer Algorithm version is 2\n",
            "2020-10-12 18:25:01,956 INFO output.FileOutputCommitter: FileOutputCommitter skip cleanup _temporary folders under output directory:false, ignore cleanup failures: false\n",
            "2020-10-12 18:25:02,072 INFO mapred.LocalJobRunner: Waiting for map tasks\n",
            "2020-10-12 18:25:02,079 INFO mapred.LocalJobRunner: Starting task: attempt_local106858373_0001_m_000000_0\n",
            "2020-10-12 18:25:02,194 INFO output.FileOutputCommitter: File Output Committer Algorithm version is 2\n",
            "2020-10-12 18:25:02,194 INFO output.FileOutputCommitter: FileOutputCommitter skip cleanup _temporary folders under output directory:false, ignore cleanup failures: false\n",
            "2020-10-12 18:25:02,266 INFO mapred.Task:  Using ResourceCalculatorProcessTree : [ ]\n",
            "2020-10-12 18:25:02,288 INFO mapred.MapTask: Processing split: file:/home/jovyan/work/web.txt:0+11758533\n",
            "2020-10-12 18:25:02,307 INFO mapred.MapTask: numReduceTasks: 1\n",
            "2020-10-12 18:25:02,458 INFO mapred.MapTask: (EQUATOR) 0 kvi 26214396(104857584)\n",
            "2020-10-12 18:25:02,459 INFO mapred.MapTask: mapreduce.task.io.sort.mb: 100\n",
            "2020-10-12 18:25:02,459 INFO mapred.MapTask: soft limit at 83886080\n",
            "2020-10-12 18:25:02,459 INFO mapred.MapTask: bufstart = 0; bufvoid = 104857600\n",
            "2020-10-12 18:25:02,459 INFO mapred.MapTask: kvstart = 26214396; length = 6553600\n",
            "2020-10-12 18:25:02,465 INFO mapred.MapTask: Map output collector class = org.apache.hadoop.mapred.MapTask$MapOutputBuffer\n",
            "2020-10-12 18:25:02,475 INFO streaming.PipeMapRed: PipeMapRed exec [/home/jovyan/work/./mapper_IP.py]\n",
            "2020-10-12 18:25:02,494 INFO Configuration.deprecation: mapred.work.output.dir is deprecated. Instead, use mapreduce.task.output.dir\n",
            "2020-10-12 18:25:02,496 INFO Configuration.deprecation: map.input.start is deprecated. Instead, use mapreduce.map.input.start\n",
            "2020-10-12 18:25:02,497 INFO Configuration.deprecation: mapred.task.is.map is deprecated. Instead, use mapreduce.task.ismap\n",
            "2020-10-12 18:25:02,503 INFO Configuration.deprecation: mapred.task.id is deprecated. Instead, use mapreduce.task.attempt.id\n",
            "2020-10-12 18:25:02,505 INFO Configuration.deprecation: mapred.tip.id is deprecated. Instead, use mapreduce.task.id\n",
            "2020-10-12 18:25:02,505 INFO Configuration.deprecation: mapred.local.dir is deprecated. Instead, use mapreduce.cluster.local.dir\n",
            "2020-10-12 18:25:02,508 INFO Configuration.deprecation: map.input.file is deprecated. Instead, use mapreduce.map.input.file\n",
            "2020-10-12 18:25:02,508 INFO Configuration.deprecation: mapred.skip.on is deprecated. Instead, use mapreduce.job.skiprecords\n",
            "2020-10-12 18:25:02,509 INFO Configuration.deprecation: map.input.length is deprecated. Instead, use mapreduce.map.input.length\n",
            "2020-10-12 18:25:02,511 INFO Configuration.deprecation: mapred.job.id is deprecated. Instead, use mapreduce.job.id\n",
            "2020-10-12 18:25:02,511 INFO Configuration.deprecation: user.name is deprecated. Instead, use mapreduce.job.user.name\n",
            "2020-10-12 18:25:02,512 INFO Configuration.deprecation: mapred.task.partition is deprecated. Instead, use mapreduce.task.partition\n",
            "2020-10-12 18:25:02,611 INFO streaming.PipeMapRed: R/W/S=1/0/0 in:NA [rec/s] out:NA [rec/s]\n",
            "2020-10-12 18:25:02,611 INFO streaming.PipeMapRed: R/W/S=10/0/0 in:NA [rec/s] out:NA [rec/s]\n",
            "2020-10-12 18:25:02,615 INFO streaming.PipeMapRed: R/W/S=100/0/0 in:NA [rec/s] out:NA [rec/s]\n",
            "2020-10-12 18:25:02,644 INFO streaming.PipeMapRed: R/W/S=1000/0/0 in:NA [rec/s] out:NA [rec/s]\n",
            "2020-10-12 18:25:02,684 INFO streaming.PipeMapRed: Records R/W=1586/1\n",
            "2020-10-12 18:25:02,931 INFO mapreduce.Job: Job job_local106858373_0001 running in uber mode : false\n",
            "2020-10-12 18:25:02,933 INFO mapreduce.Job:  map 0% reduce 0%\n",
            "2020-10-12 18:25:03,113 INFO streaming.PipeMapRed: R/W/S=10000/51601/0 in:NA [rec/s] out:NA [rec/s]\n",
            "2020-10-12 18:25:04,740 INFO streaming.PipeMapRed: R/W/S=100000/588773/0 in:50000=100000/2 [rec/s] out:294386=588773/2 [rec/s]\n",
            "2020-10-12 18:25:05,728 INFO streaming.PipeMapRed: MRErrorThread done\n",
            "2020-10-12 18:25:05,729 INFO streaming.PipeMapRed: mapRedFinished\n",
            "2020-10-12 18:25:05,735 INFO mapred.LocalJobRunner: \n",
            "2020-10-12 18:25:05,736 INFO mapred.MapTask: Starting flush of map output\n",
            "2020-10-12 18:25:05,736 INFO mapred.MapTask: Spilling map output\n",
            "2020-10-12 18:25:05,736 INFO mapred.MapTask: bufstart = 0; bufend = 28240518; bufvoid = 104857600\n",
            "2020-10-12 18:25:05,736 INFO mapred.MapTask: kvstart = 26214396(104857584); kvend = 22771432(91085728); length = 3442965/6553600\n",
            "2020-10-12 18:25:07,125 INFO mapred.MapTask: Finished spill 0\n",
            "2020-10-12 18:25:07,215 INFO mapred.Task: Task:attempt_local106858373_0001_m_000000_0 is done. And is in the process of committing\n",
            "2020-10-12 18:25:07,221 INFO mapred.LocalJobRunner: Records R/W=1586/1\n",
            "2020-10-12 18:25:07,221 INFO mapred.Task: Task 'attempt_local106858373_0001_m_000000_0' done.\n",
            "2020-10-12 18:25:07,234 INFO mapred.Task: Final Counters for attempt_local106858373_0001_m_000000_0: Counters: 17\n",
            "\tFile System Counters\n",
            "\t\tFILE: Number of bytes read=11936004\n",
            "\t\tFILE: Number of bytes written=30657891\n",
            "\t\tFILE: Number of read operations=0\n",
            "\t\tFILE: Number of large read operations=0\n",
            "\t\tFILE: Number of write operations=0\n",
            "\tMap-Reduce Framework\n",
            "\t\tMap input records=143457\n",
            "\t\tMap output records=860742\n",
            "\t\tMap output bytes=28240518\n",
            "\t\tMap output materialized bytes=29962008\n",
            "\t\tInput split bytes=82\n",
            "\t\tCombine input records=0\n",
            "\t\tSpilled Records=860742\n",
            "\t\tFailed Shuffles=0\n",
            "\t\tMerged Map outputs=0\n",
            "\t\tGC time elapsed (ms)=0\n",
            "\t\tTotal committed heap usage (bytes)=203948032\n",
            "\tFile Input Format Counters \n",
            "\t\tBytes Read=11758533\n",
            "2020-10-12 18:25:07,235 INFO mapred.LocalJobRunner: Finishing task: attempt_local106858373_0001_m_000000_0\n",
            "2020-10-12 18:25:07,236 INFO mapred.LocalJobRunner: map task executor complete.\n",
            "2020-10-12 18:25:07,244 INFO mapred.LocalJobRunner: Waiting for reduce tasks\n",
            "2020-10-12 18:25:07,244 INFO mapred.LocalJobRunner: Starting task: attempt_local106858373_0001_r_000000_0\n",
            "2020-10-12 18:25:07,285 INFO output.FileOutputCommitter: File Output Committer Algorithm version is 2\n",
            "2020-10-12 18:25:07,287 INFO output.FileOutputCommitter: FileOutputCommitter skip cleanup _temporary folders under output directory:false, ignore cleanup failures: false\n",
            "2020-10-12 18:25:07,288 INFO mapred.Task:  Using ResourceCalculatorProcessTree : [ ]\n",
            "2020-10-12 18:25:07,296 INFO mapred.ReduceTask: Using ShuffleConsumerPlugin: org.apache.hadoop.mapreduce.task.reduce.Shuffle@961d2e7\n",
            "2020-10-12 18:25:07,298 WARN impl.MetricsSystemImpl: JobTracker metrics system already initialized!\n",
            "2020-10-12 18:25:07,352 INFO reduce.MergeManagerImpl: MergerManager: memoryLimit=325163424, maxSingleShuffleLimit=81290856, mergeThreshold=214607872, ioSortFactor=10, memToMemMergeOutputsThreshold=10\n",
            "2020-10-12 18:25:07,368 INFO reduce.EventFetcher: attempt_local106858373_0001_r_000000_0 Thread started: EventFetcher for fetching Map Completion Events\n",
            "2020-10-12 18:25:07,480 INFO reduce.LocalFetcher: localfetcher#1 about to shuffle output of map attempt_local106858373_0001_m_000000_0 decomp: 29962004 len: 29962008 to MEMORY\n",
            "2020-10-12 18:25:07,534 INFO reduce.InMemoryMapOutput: Read 29962004 bytes from map-output for attempt_local106858373_0001_m_000000_0\n",
            "2020-10-12 18:25:07,537 INFO reduce.MergeManagerImpl: closeInMemoryFile -> map-output of size: 29962004, inMemoryMapOutputs.size() -> 1, commitMemory -> 0, usedMemory ->29962004\n",
            "2020-10-12 18:25:07,545 INFO reduce.EventFetcher: EventFetcher is interrupted.. Returning\n",
            "2020-10-12 18:25:07,547 INFO mapred.LocalJobRunner: 1 / 1 copied.\n",
            "2020-10-12 18:25:07,547 INFO reduce.MergeManagerImpl: finalMerge called with 1 in-memory map-outputs and 0 on-disk map-outputs\n",
            "2020-10-12 18:25:07,585 INFO mapred.Merger: Merging 1 sorted segments\n",
            "2020-10-12 18:25:07,586 INFO mapred.Merger: Down to the last merge-pass, with 1 segments left of total size: 29961987 bytes\n",
            "2020-10-12 18:25:07,954 INFO mapreduce.Job:  map 100% reduce 0%\n",
            "2020-10-12 18:25:08,254 INFO reduce.MergeManagerImpl: Merged 1 segments, 29962004 bytes to disk to satisfy reduce memory limit\n",
            "2020-10-12 18:25:08,254 INFO reduce.MergeManagerImpl: Merging 1 files, 29962008 bytes from disk\n",
            "2020-10-12 18:25:08,256 INFO reduce.MergeManagerImpl: Merging 0 segments, 0 bytes from memory into reduce\n",
            "2020-10-12 18:25:08,256 INFO mapred.Merger: Merging 1 sorted segments\n",
            "2020-10-12 18:25:08,258 INFO mapred.Merger: Down to the last merge-pass, with 1 segments left of total size: 29961987 bytes\n",
            "2020-10-12 18:25:08,259 INFO mapred.LocalJobRunner: 1 / 1 copied.\n",
            "2020-10-12 18:25:08,266 INFO streaming.PipeMapRed: PipeMapRed exec [/home/jovyan/work/./reducer_IP.py]\n",
            "2020-10-12 18:25:08,270 INFO Configuration.deprecation: mapred.job.tracker is deprecated. Instead, use mapreduce.jobtracker.address\n",
            "2020-10-12 18:25:08,273 INFO Configuration.deprecation: mapred.map.tasks is deprecated. Instead, use mapreduce.job.maps\n",
            "2020-10-12 18:25:08,314 INFO streaming.PipeMapRed: R/W/S=1/0/0 in:NA [rec/s] out:NA [rec/s]\n",
            "2020-10-12 18:25:08,314 INFO streaming.PipeMapRed: R/W/S=10/0/0 in:NA [rec/s] out:NA [rec/s]\n",
            "2020-10-12 18:25:08,317 INFO streaming.PipeMapRed: R/W/S=100/0/0 in:NA [rec/s] out:NA [rec/s]\n",
            "2020-10-12 18:25:08,344 INFO streaming.PipeMapRed: R/W/S=1000/0/0 in:NA [rec/s] out:NA [rec/s]\n",
            "2020-10-12 18:25:08,437 INFO streaming.PipeMapRed: R/W/S=10000/0/0 in:NA [rec/s] out:NA [rec/s]\n",
            "2020-10-12 18:25:08,880 INFO streaming.PipeMapRed: R/W/S=100000/0/0 in:NA [rec/s] out:NA [rec/s]\n",
            "2020-10-12 18:25:09,134 INFO streaming.PipeMapRed: R/W/S=200000/0/0 in:NA [rec/s] out:NA [rec/s]\n",
            "2020-10-12 18:25:09,483 INFO streaming.PipeMapRed: R/W/S=300000/0/0 in:300000=300000/1 [rec/s] out:0=0/1 [rec/s]\n",
            "2020-10-12 18:25:09,773 INFO streaming.PipeMapRed: R/W/S=400000/0/0 in:400000=400000/1 [rec/s] out:0=0/1 [rec/s]\n",
            "2020-10-12 18:25:10,012 INFO streaming.PipeMapRed: R/W/S=500000/0/0 in:500000=500000/1 [rec/s] out:0=0/1 [rec/s]\n",
            "2020-10-12 18:25:10,487 INFO streaming.PipeMapRed: R/W/S=600000/0/0 in:300000=600000/2 [rec/s] out:0=0/2 [rec/s]\n",
            "2020-10-12 18:25:10,972 INFO streaming.PipeMapRed: R/W/S=700000/0/0 in:350000=700000/2 [rec/s] out:0=0/2 [rec/s]\n",
            "2020-10-12 18:25:11,293 INFO streaming.PipeMapRed: R/W/S=800000/0/0 in:266666=800000/3 [rec/s] out:0=0/3 [rec/s]\n",
            "2020-10-12 18:25:11,505 INFO streaming.PipeMapRed: MRErrorThread done\n",
            "2020-10-12 18:25:11,512 INFO streaming.PipeMapRed: Records R/W=860742/1\n",
            "2020-10-12 18:25:11,512 INFO streaming.PipeMapRed: mapRedFinished\n",
            "2020-10-12 18:25:11,514 INFO mapred.Task: Task:attempt_local106858373_0001_r_000000_0 is done. And is in the process of committing\n",
            "2020-10-12 18:25:11,516 INFO mapred.LocalJobRunner: 1 / 1 copied.\n",
            "2020-10-12 18:25:11,517 INFO mapred.Task: Task attempt_local106858373_0001_r_000000_0 is allowed to commit now\n",
            "2020-10-12 18:25:11,518 INFO output.FileOutputCommitter: Saved output of task 'attempt_local106858373_0001_r_000000_0' to file:/home/jovyan/work/results_IP\n",
            "2020-10-12 18:25:11,522 INFO mapred.LocalJobRunner: Records R/W=860742/1 > reduce\n",
            "2020-10-12 18:25:11,522 INFO mapred.Task: Task 'attempt_local106858373_0001_r_000000_0' done.\n",
            "2020-10-12 18:25:11,523 INFO mapred.Task: Final Counters for attempt_local106858373_0001_r_000000_0: Counters: 24\n",
            "\tFile System Counters\n",
            "\t\tFILE: Number of bytes read=71860052\n",
            "\t\tFILE: Number of bytes written=60619929\n",
            "\t\tFILE: Number of read operations=0\n",
            "\t\tFILE: Number of large read operations=0\n",
            "\t\tFILE: Number of write operations=0\n",
            "\tMap-Reduce Framework\n",
            "\t\tCombine input records=0\n",
            "\t\tCombine output records=0\n",
            "\t\tReduce input groups=167\n",
            "\t\tReduce shuffle bytes=29962008\n",
            "\t\tReduce input records=860742\n",
            "\t\tReduce output records=1\n",
            "\t\tSpilled Records=860742\n",
            "\t\tShuffled Maps =1\n",
            "\t\tFailed Shuffles=0\n",
            "\t\tMerged Map outputs=1\n",
            "\t\tGC time elapsed (ms)=87\n",
            "\t\tTotal committed heap usage (bytes)=186122240\n",
            "\tShuffle Errors\n",
            "\t\tBAD_ID=0\n",
            "\t\tCONNECTION=0\n",
            "\t\tIO_ERROR=0\n",
            "\t\tWRONG_LENGTH=0\n",
            "\t\tWRONG_MAP=0\n",
            "\t\tWRONG_REDUCE=0\n",
            "\tFile Output Format Counters \n",
            "\t\tBytes Written=30\n",
            "2020-10-12 18:25:11,524 INFO mapred.LocalJobRunner: Finishing task: attempt_local106858373_0001_r_000000_0\n",
            "2020-10-12 18:25:11,524 INFO mapred.LocalJobRunner: reduce task executor complete.\n",
            "2020-10-12 18:25:11,963 INFO mapreduce.Job:  map 100% reduce 100%\n",
            "2020-10-12 18:25:11,964 INFO mapreduce.Job: Job job_local106858373_0001 completed successfully\n",
            "2020-10-12 18:25:11,985 INFO mapreduce.Job: Counters: 30\n",
            "\tFile System Counters\n",
            "\t\tFILE: Number of bytes read=83796056\n",
            "\t\tFILE: Number of bytes written=91277820\n",
            "\t\tFILE: Number of read operations=0\n",
            "\t\tFILE: Number of large read operations=0\n",
            "\t\tFILE: Number of write operations=0\n",
            "\tMap-Reduce Framework\n",
            "\t\tMap input records=143457\n",
            "\t\tMap output records=860742\n",
            "\t\tMap output bytes=28240518\n",
            "\t\tMap output materialized bytes=29962008\n",
            "\t\tInput split bytes=82\n",
            "\t\tCombine input records=0\n",
            "\t\tCombine output records=0\n",
            "\t\tReduce input groups=167\n",
            "\t\tReduce shuffle bytes=29962008\n",
            "\t\tReduce input records=860742\n",
            "\t\tReduce output records=1\n",
            "\t\tSpilled Records=1721484\n",
            "\t\tShuffled Maps =1\n",
            "\t\tFailed Shuffles=0\n",
            "\t\tMerged Map outputs=1\n",
            "\t\tGC time elapsed (ms)=87\n",
            "\t\tTotal committed heap usage (bytes)=390070272\n",
            "\tShuffle Errors\n",
            "\t\tBAD_ID=0\n",
            "\t\tCONNECTION=0\n",
            "\t\tIO_ERROR=0\n",
            "\t\tWRONG_LENGTH=0\n",
            "\t\tWRONG_MAP=0\n",
            "\t\tWRONG_REDUCE=0\n",
            "\tFile Input Format Counters \n",
            "\t\tBytes Read=11758533\n",
            "\tFile Output Format Counters \n",
            "\t\tBytes Written=30\n",
            "2020-10-12 18:25:11,985 INFO streaming.StreamJob: Output directory: results_IP\n"
          ],
          "name": "stdout"
        }
      ]
    },
    {
      "cell_type": "markdown",
      "metadata": {
        "id": "IMIksPtSb61I"
      },
      "source": [
        "#### Checking the results\n",
        "The result is stored in directory results."
      ]
    },
    {
      "cell_type": "code",
      "metadata": {
        "id": "VE31FOVeb61J",
        "outputId": "ba4c9c24-b882-426c-a101-3d6072bbadd2"
      },
      "source": [
        "!cat results_IP/part-*"
      ],
      "execution_count": null,
      "outputs": [
        {
          "output_type": "stream",
          "text": [
            "unique IPs are 7\t\r\n"
          ],
          "name": "stdout"
        }
      ]
    },
    {
      "cell_type": "markdown",
      "metadata": {
        "id": "fzAuvQKFb61N"
      },
      "source": [
        "## Now calculate average attack time, min, max for every 10 sec\n"
      ]
    },
    {
      "cell_type": "markdown",
      "metadata": {
        "id": "JdxUd7uWb61N"
      },
      "source": [
        "### Mapper\n",
        "Complete with the code for the mapper."
      ]
    },
    {
      "cell_type": "code",
      "metadata": {
        "id": "Inzr-orfb61O",
        "outputId": "3d09ce10-4580-4ad6-819d-b1dfa7988b5c"
      },
      "source": [
        "%%file mapper_time.py\n",
        "#!/usr/bin/env python\n",
        "\n",
        "# import sys\n",
        "import sys\n",
        "# import string library function  \n",
        "import string  \n",
        "\n",
        "# input comes from STDIN (standard input)\n",
        "for line in sys.stdin:\n",
        "    # remove leading and trailing whitespace\n",
        "    line = line.strip()\n",
        "    # remove punctuation characters\n",
        "    # split the line into words\n",
        "    words = line.split()\n",
        "    for word in words:\n",
        "        d=words[0]\n",
        "        attack=words[5]\n",
        "        print('%s\\t%s' % (d[:-10], attack[:7]))"
      ],
      "execution_count": null,
      "outputs": [
        {
          "output_type": "stream",
          "text": [
            "Overwriting mapper_time.py\n"
          ],
          "name": "stdout"
        }
      ]
    },
    {
      "cell_type": "markdown",
      "metadata": {
        "id": "9p7f8G11b61R"
      },
      "source": [
        "### Reducer"
      ]
    },
    {
      "cell_type": "code",
      "metadata": {
        "id": "IYjnpRi3b61S",
        "outputId": "b99b5d22-a188-4dbc-b727-d067645adb9c"
      },
      "source": [
        "%%file reducer_time.py\n",
        "#!/usr/bin/python\n",
        "\n",
        "import sys\n",
        "import string\n",
        "\n",
        "\n",
        "interval_time={} #made a dictionary\n",
        "\n",
        "\n",
        "# input comes from STDIN\n",
        "for line in sys.stdin:\n",
        "    # remove leading and trailing whitespace\n",
        "    line = line.strip()\n",
        "\n",
        "    # parse the input we got from mapper.py\n",
        "    interval, time = line.split('\\t')\n",
        "    \n",
        "    # convert time (currently a string) to float\n",
        "    \n",
        "    time=float(time)\n",
        "    \n",
        "    time=time*1000\n",
        "\n",
        "    \n",
        "    time=int(time)\n",
        "    \n",
        "    \n",
        "    if interval in interval_time:\n",
        "        interval_time[interval].append(int(time))\n",
        "        \n",
        "    else:\n",
        "        interval_time[interval] = []\n",
        "        interval_time[interval].append(int(time))\n",
        "\n",
        "#Reducer\n",
        "for interval in interval_time.keys():\n",
        "    \n",
        "    ave_time = sum(interval_time[interval])*1.0 / len(interval_time[interval])\n",
        "    \n",
        "    ave_time = str(ave_time)\n",
        "    \n",
        "    num_requests = len(interval_time[interval])\n",
        "    \n",
        "    min_time = min(interval_time[interval])\n",
        "    \n",
        "    max_time = max(interval_time[interval])\n",
        "    \n",
        "    print('%s\\t%s\\t%s\\t%s\\t%s' % (interval, ave_time[:5], num_requests, min_time, max_time))\n",
        "    \n",
        "  \n",
        "    \n",
        "    \n",
        "    \n",
        "    \n",
        "    \n",
        "    \n",
        "    \n"
      ],
      "execution_count": null,
      "outputs": [
        {
          "output_type": "stream",
          "text": [
            "Overwriting reducer_time.py\n"
          ],
          "name": "stdout"
        }
      ]
    },
    {
      "cell_type": "markdown",
      "metadata": {
        "id": "LrWQDyfPb61V"
      },
      "source": [
        "### Hadoop standalone mode execution"
      ]
    },
    {
      "cell_type": "markdown",
      "metadata": {
        "id": "8x5mnzgLb61W"
      },
      "source": [
        "\n",
        "The output directory needs to be cleared..."
      ]
    },
    {
      "cell_type": "code",
      "metadata": {
        "id": "KQFPTYE4b61W"
      },
      "source": [
        "rm -rf results_time"
      ],
      "execution_count": null,
      "outputs": []
    },
    {
      "cell_type": "markdown",
      "metadata": {
        "id": "AqAl0QPbb61Z"
      },
      "source": [
        "#### Submitting the job\n",
        "\n",
        "The _hadoop_ command is used to submit the mapreduce job to the cluster..."
      ]
    },
    {
      "cell_type": "code",
      "metadata": {
        "scrolled": true,
        "id": "a0fkdXJ8b61a",
        "outputId": "88b8a330-b053-4f22-dad8-4b2d0f453fca"
      },
      "source": [
        "!hadoop jar /opt/hadoop-3.2.0/share/hadoop/tools/lib/hadoop-*streaming*.jar -files mapper_time.py,reducer_time.py -mapper mapper_time.py -reducer reducer_time.py -input web.txt -output results_time"
      ],
      "execution_count": null,
      "outputs": [
        {
          "output_type": "stream",
          "text": [
            "2020-10-13 08:23:17,688 INFO impl.MetricsConfig: Loaded properties from hadoop-metrics2.properties\n",
            "2020-10-13 08:23:17,930 INFO impl.MetricsSystemImpl: Scheduled Metric snapshot period at 10 second(s).\n",
            "2020-10-13 08:23:17,930 INFO impl.MetricsSystemImpl: JobTracker metrics system started\n",
            "2020-10-13 08:23:17,962 WARN impl.MetricsSystemImpl: JobTracker metrics system already initialized!\n",
            "2020-10-13 08:23:18,142 INFO mapred.FileInputFormat: Total input files to process : 1\n",
            "2020-10-13 08:23:18,165 INFO mapreduce.JobSubmitter: number of splits:1\n",
            "2020-10-13 08:23:18,383 INFO mapreduce.JobSubmitter: Submitting tokens for job: job_local738032066_0001\n",
            "2020-10-13 08:23:18,383 INFO mapreduce.JobSubmitter: Executing with tokens: []\n",
            "2020-10-13 08:23:18,764 INFO mapred.LocalDistributedCacheManager: Localized file:/home/jovyan/work/mapper_time.py as file:/tmp/hadoop-jovyan/mapred/local/job_local738032066_0001_08aa4a4d-e6b9-4e18-8de8-ff3f60debd27/mapper_time.py\n",
            "2020-10-13 08:23:18,786 INFO mapred.LocalDistributedCacheManager: Localized file:/home/jovyan/work/reducer_time.py as file:/tmp/hadoop-jovyan/mapred/local/job_local738032066_0001_ef34e1ee-4eac-41f0-a544-8bc00de0c284/reducer_time.py\n",
            "2020-10-13 08:23:18,904 INFO mapreduce.Job: The url to track the job: http://localhost:8080/\n",
            "2020-10-13 08:23:18,907 INFO mapreduce.Job: Running job: job_local738032066_0001\n",
            "2020-10-13 08:23:18,913 INFO mapred.LocalJobRunner: OutputCommitter set in config null\n",
            "2020-10-13 08:23:18,915 INFO mapred.LocalJobRunner: OutputCommitter is org.apache.hadoop.mapred.FileOutputCommitter\n",
            "2020-10-13 08:23:18,925 INFO output.FileOutputCommitter: File Output Committer Algorithm version is 2\n",
            "2020-10-13 08:23:18,925 INFO output.FileOutputCommitter: FileOutputCommitter skip cleanup _temporary folders under output directory:false, ignore cleanup failures: false\n",
            "2020-10-13 08:23:18,964 INFO mapred.LocalJobRunner: Waiting for map tasks\n",
            "2020-10-13 08:23:18,968 INFO mapred.LocalJobRunner: Starting task: attempt_local738032066_0001_m_000000_0\n",
            "2020-10-13 08:23:19,010 INFO output.FileOutputCommitter: File Output Committer Algorithm version is 2\n",
            "2020-10-13 08:23:19,010 INFO output.FileOutputCommitter: FileOutputCommitter skip cleanup _temporary folders under output directory:false, ignore cleanup failures: false\n",
            "2020-10-13 08:23:19,042 INFO mapred.Task:  Using ResourceCalculatorProcessTree : [ ]\n",
            "2020-10-13 08:23:19,059 INFO mapred.MapTask: Processing split: file:/home/jovyan/work/web.txt:0+11758533\n",
            "2020-10-13 08:23:19,075 INFO mapred.MapTask: numReduceTasks: 1\n",
            "2020-10-13 08:23:19,166 INFO mapred.MapTask: (EQUATOR) 0 kvi 26214396(104857584)\n",
            "2020-10-13 08:23:19,166 INFO mapred.MapTask: mapreduce.task.io.sort.mb: 100\n",
            "2020-10-13 08:23:19,166 INFO mapred.MapTask: soft limit at 83886080\n",
            "2020-10-13 08:23:19,166 INFO mapred.MapTask: bufstart = 0; bufvoid = 104857600\n",
            "2020-10-13 08:23:19,166 INFO mapred.MapTask: kvstart = 26214396; length = 6553600\n",
            "2020-10-13 08:23:19,169 INFO mapred.MapTask: Map output collector class = org.apache.hadoop.mapred.MapTask$MapOutputBuffer\n",
            "2020-10-13 08:23:19,179 INFO streaming.PipeMapRed: PipeMapRed exec [/home/jovyan/work/./mapper_time.py]\n",
            "2020-10-13 08:23:19,186 INFO Configuration.deprecation: mapred.work.output.dir is deprecated. Instead, use mapreduce.task.output.dir\n",
            "2020-10-13 08:23:19,187 INFO Configuration.deprecation: map.input.start is deprecated. Instead, use mapreduce.map.input.start\n",
            "2020-10-13 08:23:19,189 INFO Configuration.deprecation: mapred.task.is.map is deprecated. Instead, use mapreduce.task.ismap\n",
            "2020-10-13 08:23:19,190 INFO Configuration.deprecation: mapred.task.id is deprecated. Instead, use mapreduce.task.attempt.id\n",
            "2020-10-13 08:23:19,191 INFO Configuration.deprecation: mapred.tip.id is deprecated. Instead, use mapreduce.task.id\n",
            "2020-10-13 08:23:19,191 INFO Configuration.deprecation: mapred.local.dir is deprecated. Instead, use mapreduce.cluster.local.dir\n",
            "2020-10-13 08:23:19,192 INFO Configuration.deprecation: map.input.file is deprecated. Instead, use mapreduce.map.input.file\n",
            "2020-10-13 08:23:19,192 INFO Configuration.deprecation: mapred.skip.on is deprecated. Instead, use mapreduce.job.skiprecords\n",
            "2020-10-13 08:23:19,193 INFO Configuration.deprecation: map.input.length is deprecated. Instead, use mapreduce.map.input.length\n",
            "2020-10-13 08:23:19,194 INFO Configuration.deprecation: mapred.job.id is deprecated. Instead, use mapreduce.job.id\n",
            "2020-10-13 08:23:19,194 INFO Configuration.deprecation: user.name is deprecated. Instead, use mapreduce.job.user.name\n",
            "2020-10-13 08:23:19,195 INFO Configuration.deprecation: mapred.task.partition is deprecated. Instead, use mapreduce.task.partition\n",
            "2020-10-13 08:23:19,235 INFO streaming.PipeMapRed: R/W/S=1/0/0 in:NA [rec/s] out:NA [rec/s]\n",
            "2020-10-13 08:23:19,236 INFO streaming.PipeMapRed: R/W/S=10/0/0 in:NA [rec/s] out:NA [rec/s]\n",
            "2020-10-13 08:23:19,242 INFO streaming.PipeMapRed: R/W/S=100/0/0 in:NA [rec/s] out:NA [rec/s]\n",
            "2020-10-13 08:23:19,264 INFO streaming.PipeMapRed: R/W/S=1000/0/0 in:NA [rec/s] out:NA [rec/s]\n",
            "2020-10-13 08:23:19,305 INFO streaming.PipeMapRed: Records R/W=1586/1\n",
            "2020-10-13 08:23:19,545 INFO streaming.PipeMapRed: R/W/S=10000/51664/0 in:NA [rec/s] out:NA [rec/s]\n",
            "2020-10-13 08:23:19,918 INFO mapreduce.Job: Job job_local738032066_0001 running in uber mode : false\n",
            "2020-10-13 08:23:19,919 INFO mapreduce.Job:  map 0% reduce 0%\n",
            "2020-10-13 08:23:20,757 INFO streaming.PipeMapRed: R/W/S=100000/588848/0 in:100000=100000/1 [rec/s] out:588848=588848/1 [rec/s]\n",
            "2020-10-13 08:23:21,294 INFO streaming.PipeMapRed: MRErrorThread done\n",
            "2020-10-13 08:23:21,296 INFO streaming.PipeMapRed: mapRedFinished\n",
            "2020-10-13 08:23:21,301 INFO mapred.LocalJobRunner: \n",
            "2020-10-13 08:23:21,302 INFO mapred.MapTask: Starting flush of map output\n",
            "2020-10-13 08:23:21,302 INFO mapred.MapTask: Spilling map output\n",
            "2020-10-13 08:23:21,302 INFO mapred.MapTask: bufstart = 0; bufend = 21652842; bufvoid = 104857600\n",
            "2020-10-13 08:23:21,302 INFO mapred.MapTask: kvstart = 26214396(104857584); kvend = 22771432(91085728); length = 3442965/6553600\n",
            "2020-10-13 08:23:22,179 INFO mapred.MapTask: Finished spill 0\n",
            "2020-10-13 08:23:22,191 INFO mapred.Task: Task:attempt_local738032066_0001_m_000000_0 is done. And is in the process of committing\n",
            "2020-10-13 08:23:22,196 INFO mapred.LocalJobRunner: Records R/W=1586/1\n",
            "2020-10-13 08:23:22,196 INFO mapred.Task: Task 'attempt_local738032066_0001_m_000000_0' done.\n",
            "2020-10-13 08:23:22,205 INFO mapred.Task: Final Counters for attempt_local738032066_0001_m_000000_0: Counters: 17\n",
            "\tFile System Counters\n",
            "\t\tFILE: Number of bytes read=11936768\n",
            "\t\tFILE: Number of bytes written=24071021\n",
            "\t\tFILE: Number of read operations=0\n",
            "\t\tFILE: Number of large read operations=0\n",
            "\t\tFILE: Number of write operations=0\n",
            "\tMap-Reduce Framework\n",
            "\t\tMap input records=143457\n",
            "\t\tMap output records=860742\n",
            "\t\tMap output bytes=21652842\n",
            "\t\tMap output materialized bytes=23374332\n",
            "\t\tInput split bytes=82\n",
            "\t\tCombine input records=0\n",
            "\t\tSpilled Records=860742\n",
            "\t\tFailed Shuffles=0\n",
            "\t\tMerged Map outputs=0\n",
            "\t\tGC time elapsed (ms)=0\n",
            "\t\tTotal committed heap usage (bytes)=202899456\n",
            "\tFile Input Format Counters \n",
            "\t\tBytes Read=11758533\n",
            "2020-10-13 08:23:22,205 INFO mapred.LocalJobRunner: Finishing task: attempt_local738032066_0001_m_000000_0\n",
            "2020-10-13 08:23:22,206 INFO mapred.LocalJobRunner: map task executor complete.\n",
            "2020-10-13 08:23:22,209 INFO mapred.LocalJobRunner: Waiting for reduce tasks\n",
            "2020-10-13 08:23:22,210 INFO mapred.LocalJobRunner: Starting task: attempt_local738032066_0001_r_000000_0\n",
            "2020-10-13 08:23:22,227 INFO output.FileOutputCommitter: File Output Committer Algorithm version is 2\n",
            "2020-10-13 08:23:22,227 INFO output.FileOutputCommitter: FileOutputCommitter skip cleanup _temporary folders under output directory:false, ignore cleanup failures: false\n",
            "2020-10-13 08:23:22,227 INFO mapred.Task:  Using ResourceCalculatorProcessTree : [ ]\n",
            "2020-10-13 08:23:22,233 INFO mapred.ReduceTask: Using ShuffleConsumerPlugin: org.apache.hadoop.mapreduce.task.reduce.Shuffle@293834ee\n",
            "2020-10-13 08:23:22,237 WARN impl.MetricsSystemImpl: JobTracker metrics system already initialized!\n",
            "2020-10-13 08:23:22,275 INFO reduce.MergeManagerImpl: MergerManager: memoryLimit=325163424, maxSingleShuffleLimit=81290856, mergeThreshold=214607872, ioSortFactor=10, memToMemMergeOutputsThreshold=10\n",
            "2020-10-13 08:23:22,290 INFO reduce.EventFetcher: attempt_local738032066_0001_r_000000_0 Thread started: EventFetcher for fetching Map Completion Events\n",
            "2020-10-13 08:23:22,357 INFO reduce.LocalFetcher: localfetcher#1 about to shuffle output of map attempt_local738032066_0001_m_000000_0 decomp: 23374328 len: 23374332 to MEMORY\n",
            "2020-10-13 08:23:22,409 INFO reduce.InMemoryMapOutput: Read 23374328 bytes from map-output for attempt_local738032066_0001_m_000000_0\n",
            "2020-10-13 08:23:22,411 INFO reduce.MergeManagerImpl: closeInMemoryFile -> map-output of size: 23374328, inMemoryMapOutputs.size() -> 1, commitMemory -> 0, usedMemory ->23374328\n",
            "2020-10-13 08:23:22,414 INFO reduce.EventFetcher: EventFetcher is interrupted.. Returning\n",
            "2020-10-13 08:23:22,415 INFO mapred.LocalJobRunner: 1 / 1 copied.\n",
            "2020-10-13 08:23:22,416 INFO reduce.MergeManagerImpl: finalMerge called with 1 in-memory map-outputs and 0 on-disk map-outputs\n",
            "2020-10-13 08:23:22,430 INFO mapred.Merger: Merging 1 sorted segments\n",
            "2020-10-13 08:23:22,430 INFO mapred.Merger: Down to the last merge-pass, with 1 segments left of total size: 23374307 bytes\n",
            "2020-10-13 08:23:22,879 INFO reduce.MergeManagerImpl: Merged 1 segments, 23374328 bytes to disk to satisfy reduce memory limit\n",
            "2020-10-13 08:23:22,880 INFO reduce.MergeManagerImpl: Merging 1 files, 23374332 bytes from disk\n",
            "2020-10-13 08:23:22,881 INFO reduce.MergeManagerImpl: Merging 0 segments, 0 bytes from memory into reduce\n",
            "2020-10-13 08:23:22,881 INFO mapred.Merger: Merging 1 sorted segments\n",
            "2020-10-13 08:23:22,882 INFO mapred.Merger: Down to the last merge-pass, with 1 segments left of total size: 23374307 bytes\n",
            "2020-10-13 08:23:22,883 INFO mapred.LocalJobRunner: 1 / 1 copied.\n",
            "2020-10-13 08:23:22,888 INFO streaming.PipeMapRed: PipeMapRed exec [/home/jovyan/work/./reducer_time.py]\n",
            "2020-10-13 08:23:22,901 INFO Configuration.deprecation: mapred.job.tracker is deprecated. Instead, use mapreduce.jobtracker.address\n",
            "2020-10-13 08:23:22,905 INFO Configuration.deprecation: mapred.map.tasks is deprecated. Instead, use mapreduce.job.maps\n",
            "2020-10-13 08:23:22,924 INFO mapreduce.Job:  map 100% reduce 0%\n",
            "2020-10-13 08:23:22,950 INFO streaming.PipeMapRed: R/W/S=1/0/0 in:NA [rec/s] out:NA [rec/s]\n",
            "2020-10-13 08:23:22,951 INFO streaming.PipeMapRed: R/W/S=10/0/0 in:NA [rec/s] out:NA [rec/s]\n",
            "2020-10-13 08:23:22,956 INFO streaming.PipeMapRed: R/W/S=100/0/0 in:NA [rec/s] out:NA [rec/s]\n",
            "2020-10-13 08:23:22,980 INFO streaming.PipeMapRed: R/W/S=1000/0/0 in:NA [rec/s] out:NA [rec/s]\n",
            "2020-10-13 08:23:23,040 INFO streaming.PipeMapRed: R/W/S=10000/0/0 in:NA [rec/s] out:NA [rec/s]\n",
            "2020-10-13 08:23:23,430 INFO streaming.PipeMapRed: R/W/S=100000/0/0 in:NA [rec/s] out:NA [rec/s]\n",
            "2020-10-13 08:23:23,697 INFO streaming.PipeMapRed: R/W/S=200000/0/0 in:NA [rec/s] out:NA [rec/s]\n",
            "2020-10-13 08:23:23,951 INFO streaming.PipeMapRed: R/W/S=300000/0/0 in:300000=300000/1 [rec/s] out:0=0/1 [rec/s]\n",
            "2020-10-13 08:23:24,347 INFO streaming.PipeMapRed: R/W/S=400000/0/0 in:400000=400000/1 [rec/s] out:0=0/1 [rec/s]\n",
            "2020-10-13 08:23:24,632 INFO streaming.PipeMapRed: R/W/S=500000/0/0 in:500000=500000/1 [rec/s] out:0=0/1 [rec/s]\n",
            "2020-10-13 08:23:24,870 INFO streaming.PipeMapRed: R/W/S=600000/0/0 in:600000=600000/1 [rec/s] out:0=0/1 [rec/s]\n",
            "2020-10-13 08:23:25,113 INFO streaming.PipeMapRed: R/W/S=700000/0/0 in:350000=700000/2 [rec/s] out:0=0/2 [rec/s]\n",
            "2020-10-13 08:23:25,457 INFO streaming.PipeMapRed: R/W/S=800000/0/0 in:400000=800000/2 [rec/s] out:0=0/2 [rec/s]\n",
            "2020-10-13 08:23:25,686 INFO streaming.PipeMapRed: Records R/W=860742/1\n",
            "2020-10-13 08:23:25,692 INFO streaming.PipeMapRed: MRErrorThread done\n",
            "2020-10-13 08:23:25,693 INFO streaming.PipeMapRed: mapRedFinished\n",
            "2020-10-13 08:23:25,694 INFO mapred.Task: Task:attempt_local738032066_0001_r_000000_0 is done. And is in the process of committing\n",
            "2020-10-13 08:23:25,695 INFO mapred.LocalJobRunner: 1 / 1 copied.\n",
            "2020-10-13 08:23:25,695 INFO mapred.Task: Task attempt_local738032066_0001_r_000000_0 is allowed to commit now\n",
            "2020-10-13 08:23:25,700 INFO output.FileOutputCommitter: Saved output of task 'attempt_local738032066_0001_r_000000_0' to file:/home/jovyan/work/results_time\n",
            "2020-10-13 08:23:25,701 INFO mapred.LocalJobRunner: Records R/W=860742/1 > reduce\n",
            "2020-10-13 08:23:25,702 INFO mapred.Task: Task 'attempt_local738032066_0001_r_000000_0' done.\n",
            "2020-10-13 08:23:25,704 INFO mapred.Task: Final Counters for attempt_local738032066_0001_r_000000_0: Counters: 24\n",
            "\tFile System Counters\n",
            "\t\tFILE: Number of bytes read=58685464\n",
            "\t\tFILE: Number of bytes written=47447597\n",
            "\t\tFILE: Number of read operations=0\n",
            "\t\tFILE: Number of large read operations=0\n",
            "\t\tFILE: Number of write operations=0\n",
            "\tMap-Reduce Framework\n",
            "\t\tCombine input records=0\n",
            "\t\tCombine output records=0\n",
            "\t\tReduce input groups=60\n",
            "\t\tReduce shuffle bytes=23374332\n",
            "\t\tReduce input records=860742\n",
            "\t\tReduce output records=60\n",
            "\t\tSpilled Records=860742\n",
            "\t\tShuffled Maps =1\n",
            "\t\tFailed Shuffles=0\n",
            "\t\tMerged Map outputs=1\n",
            "\t\tGC time elapsed (ms)=80\n",
            "\t\tTotal committed heap usage (bytes)=149422080\n",
            "\tShuffle Errors\n",
            "\t\tBAD_ID=0\n",
            "\t\tCONNECTION=0\n",
            "\t\tIO_ERROR=0\n",
            "\t\tWRONG_LENGTH=0\n",
            "\t\tWRONG_MAP=0\n",
            "\t\tWRONG_REDUCE=0\n",
            "\tFile Output Format Counters \n",
            "\t\tBytes Written=2244\n",
            "2020-10-13 08:23:25,707 INFO mapred.LocalJobRunner: Finishing task: attempt_local738032066_0001_r_000000_0\n",
            "2020-10-13 08:23:25,708 INFO mapred.LocalJobRunner: reduce task executor complete.\n",
            "2020-10-13 08:23:25,927 INFO mapreduce.Job:  map 100% reduce 100%\n",
            "2020-10-13 08:23:25,928 INFO mapreduce.Job: Job job_local738032066_0001 completed successfully\n",
            "2020-10-13 08:23:25,977 INFO mapreduce.Job: Counters: 30\n",
            "\tFile System Counters\n",
            "\t\tFILE: Number of bytes read=70622232\n",
            "\t\tFILE: Number of bytes written=71518618\n",
            "\t\tFILE: Number of read operations=0\n",
            "\t\tFILE: Number of large read operations=0\n",
            "\t\tFILE: Number of write operations=0\n",
            "\tMap-Reduce Framework\n",
            "\t\tMap input records=143457\n",
            "\t\tMap output records=860742\n",
            "\t\tMap output bytes=21652842\n",
            "\t\tMap output materialized bytes=23374332\n",
            "\t\tInput split bytes=82\n",
            "\t\tCombine input records=0\n",
            "\t\tCombine output records=0\n",
            "\t\tReduce input groups=60\n",
            "\t\tReduce shuffle bytes=23374332\n",
            "\t\tReduce input records=860742\n",
            "\t\tReduce output records=60\n",
            "\t\tSpilled Records=1721484\n",
            "\t\tShuffled Maps =1\n",
            "\t\tFailed Shuffles=0\n",
            "\t\tMerged Map outputs=1\n",
            "\t\tGC time elapsed (ms)=80\n",
            "\t\tTotal committed heap usage (bytes)=352321536\n",
            "\tShuffle Errors\n",
            "\t\tBAD_ID=0\n",
            "\t\tCONNECTION=0\n",
            "\t\tIO_ERROR=0\n",
            "\t\tWRONG_LENGTH=0\n",
            "\t\tWRONG_MAP=0\n",
            "\t\tWRONG_REDUCE=0\n",
            "\tFile Input Format Counters \n",
            "\t\tBytes Read=11758533\n",
            "\tFile Output Format Counters \n",
            "\t\tBytes Written=2244\n",
            "2020-10-13 08:23:25,978 INFO streaming.StreamJob: Output directory: results_time\n"
          ],
          "name": "stdout"
        }
      ]
    },
    {
      "cell_type": "markdown",
      "metadata": {
        "id": "-fnPYCVRb61d"
      },
      "source": [
        "#### Checking the results\n",
        "The result is stored in directory results."
      ]
    },
    {
      "cell_type": "code",
      "metadata": {
        "scrolled": true,
        "id": "HaapOLqab61d",
        "outputId": "750cf0b7-c622-42b7-e0a4-0e304c916fbd"
      },
      "source": [
        "!cat results_time/part-*"
      ],
      "execution_count": null,
      "outputs": [
        {
          "output_type": "stream",
          "text": [
            "2016-12-06T10:01:4\t123.7\t408\t117\t166\r\n",
            "2016-12-06T10:02:5\t123.4\t366\t117\t165\r\n",
            "2016-12-06T10:01:5\t121.9\t228\t117\t141\r\n",
            "2016-12-06T09:55:3\t8.0\t6\t8\t8\r\n",
            "2016-12-06T10:02:0\t125.4\t282\t118\t290\r\n",
            "2016-12-06T10:02:4\t124.3\t300\t117\t184\r\n",
            "2016-12-06T09:00:5\t200.0\t48372\t6\t1905\r\n",
            "2016-12-06T09:00:4\t325.7\t72810\t7\t9537\r\n",
            "2016-12-06T09:00:1\t7857.\t58314\t225\t34406\r\n",
            "2016-12-06T09:00:0\t8649.\t41292\t17\t45314\r\n",
            "2016-12-06T09:00:3\t1604.\t40626\t7\t26530\r\n",
            "2016-12-06T09:00:2\t4611.\t39696\t14\t25847\r\n",
            "2016-12-06T09:01:0\t175.4\t52482\t5\t1624\r\n",
            "2016-12-06T09:01:1\t148.0\t63312\t4\t1506\r\n",
            "2016-12-06T09:01:2\t153.6\t31890\t5\t1361\r\n",
            "2016-12-06T09:01:3\t116.5\t36978\t5\t1117\r\n",
            "2016-12-06T09:01:4\t100.1\t31764\t5\t1339\r\n",
            "2016-12-06T09:01:5\t98.41\t20058\t5\t1098\r\n",
            "2016-12-06T09:04:1\t67.16\t72\t59\t143\r\n",
            "2016-12-06T09:04:0\t60.0\t18\t60\t60\r\n",
            "2016-12-06T09:04:2\t60.16\t36\t59\t62\r\n",
            "2016-12-06T09:05:0\t61.77\t54\t59\t65\r\n",
            "2016-12-06T09:04:4\t60.5\t36\t59\t64\r\n",
            "2016-12-06T10:02:3\t126.6\t372\t117\t280\r\n",
            "2016-12-06T10:02:2\t123.2\t498\t118\t191\r\n",
            "2016-12-06T10:03:0\t122.4\t294\t117\t137\r\n",
            "2016-12-06T10:02:1\t122.1\t324\t117\t133\r\n",
            "2016-12-06T10:03:2\t121.9\t498\t117\t131\r\n",
            "2016-12-06T10:01:0\t122.9\t126\t118\t139\r\n",
            "2016-12-06T09:03:2\t13.52\t150\t6\t115\r\n",
            "2016-12-06T09:03:3\t11.12\t498\t6\t85\r\n",
            "2016-12-06T09:25:5\t128.8\t138\t118\t205\r\n",
            "2016-12-06T09:03:5\t76.81\t66\t59\t123\r\n",
            "2016-12-06T09:32:2\t62.0\t6\t62\t62\r\n",
            "2016-12-06T10:01:2\t122.1\t582\t117\t181\r\n",
            "2016-12-06T10:01:3\t132.6\t540\t117\t810\r\n",
            "2016-12-06T09:02:5\t59.0\t6\t59\t59\r\n",
            "2016-12-06T09:02:4\t41.0\t36\t11\t64\r\n",
            "2016-12-06T09:02:3\t75.4\t90\t8\t153\r\n",
            "2016-12-06T09:02:2\t34.77\t672\t6\t812\r\n",
            "2016-12-06T09:02:1\t47.66\t6036\t5\t821\r\n",
            "2016-12-06T09:02:0\t92.15\t11700\t5\t972\r\n",
            "2016-12-06T09:27:0\t122.4\t336\t118\t170\r\n",
            "2016-12-06T08:58:5\t38525\t33000\t17\t80846\r\n",
            "2016-12-06T08:58:4\t30159\t15666\t14\t69654\r\n",
            "2016-12-06T10:03:1\t123.6\t540\t117\t226\r\n",
            "2016-12-06T08:58:3\t7593.\t2898\t13\t46849\r\n",
            "2016-12-06T08:59:0\t38534\t41484\t18\t81659\r\n",
            "2016-12-06T08:59:1\t32963\t37626\t17\t83993\r\n",
            "2016-12-06T08:59:2\t17293\t32604\t51\t77967\r\n",
            "2016-12-06T08:59:3\t11210\t48090\t56\t67441\r\n",
            "2016-12-06T08:59:4\t7761.\t47682\t914\t65706\r\n",
            "2016-12-06T08:59:5\t3821.\t35898\t678\t54290\r\n",
            "2016-12-06T10:01:1\t125.2\t678\t117\t264\r\n",
            "2016-12-06T09:26:1\t123.8\t270\t117\t175\r\n",
            "2016-12-06T09:26:0\t122.5\t144\t119\t129\r\n",
            "2016-12-06T09:26:3\t122.9\t492\t117\t146\r\n",
            "2016-12-06T09:26:2\t123.1\t360\t117\t157\r\n",
            "2016-12-06T09:26:5\t122.0\t510\t117\t153\r\n",
            "2016-12-06T09:26:4\t122.8\t432\t118\t132\r\n"
          ],
          "name": "stdout"
        }
      ]
    },
    {
      "cell_type": "markdown",
      "metadata": {
        "id": "OzNEYcfDb61h"
      },
      "source": [
        "## Create an inverted index that for each interval of 10s, has a list of unique IPs\n"
      ]
    },
    {
      "cell_type": "markdown",
      "metadata": {
        "id": "Guk2ptnsb61h"
      },
      "source": [
        "### Mapper (although could re-use mapper.IP.py)\n",
        "Complete with the code for the mapper."
      ]
    },
    {
      "cell_type": "markdown",
      "metadata": {
        "id": "UBcI5Jipb61i"
      },
      "source": [
        ""
      ]
    },
    {
      "cell_type": "code",
      "metadata": {
        "id": "g5CjGuehb61i",
        "outputId": "55ee317c-1efa-468c-aaca-818ee2be6830"
      },
      "source": [
        "%%file mapper_invert.py\n",
        "#!/usr/bin/env python\n",
        "\n",
        "\n",
        "# import sys\n",
        "import sys\n",
        "# import string library function  \n",
        "import string  \n",
        "\n",
        "# input comes from STDIN (standard input)\n",
        "for line in sys.stdin:\n",
        "    # remove leading and trailing whitespace\n",
        "    line = line.strip()\n",
        "    # remove punctuation characters\n",
        "    # split the line into words\n",
        "    words = line.split()\n",
        "    for word in words:\n",
        "        d=words[0]\n",
        "        URL=words[1]\n",
        "        print('%s\\t%s' % (d[:-10], URL))\n"
      ],
      "execution_count": null,
      "outputs": [
        {
          "output_type": "stream",
          "text": [
            "Writing mapper_invert.py\n"
          ],
          "name": "stdout"
        }
      ]
    },
    {
      "cell_type": "markdown",
      "metadata": {
        "id": "M4tpjq7Ub61l"
      },
      "source": [
        "### Reducer"
      ]
    },
    {
      "cell_type": "code",
      "metadata": {
        "id": "4tyP0MbCb61l",
        "outputId": "5531b8bb-e9f3-48eb-e15a-5b8623c5173f"
      },
      "source": [
        "%%file reducer_invert.py\n",
        "#!/usr/bin/python\n",
        "\n",
        "import sys\n",
        "\n",
        "interval_URL={} #made a dictionary\n",
        "\n",
        "# input comes from STDIN\n",
        "for line in sys.stdin:\n",
        "    # remove leading and trailing whitespace\n",
        "    line = line.strip()\n",
        "\n",
        "    # parse the input we got from mapper.py\n",
        "    interval, URL = line.split('\\t')\n",
        "    \n",
        "    \n",
        "    if interval in interval_URL:\n",
        "        interval_URL[interval].append(URL)\n",
        "        \n",
        "    else:\n",
        "        interval_URL[interval] = []\n",
        "        interval_URL[interval].append(URL)\n",
        "\n",
        "#Reducer\n",
        "\n",
        "for interval in interval_URL.keys():\n",
        "    \n",
        "    unique_URL = set(interval_URL[interval])\n",
        "    \n",
        "    \n",
        "    print('%s\\t%s' % (interval, unique_URL))\n",
        "    "
      ],
      "execution_count": null,
      "outputs": [
        {
          "output_type": "stream",
          "text": [
            "Overwriting reducer_invert.py\n"
          ],
          "name": "stdout"
        }
      ]
    },
    {
      "cell_type": "code",
      "metadata": {
        "id": "VuxE1zPnb61p"
      },
      "source": [
        "rm -rf results_invert"
      ],
      "execution_count": null,
      "outputs": []
    },
    {
      "cell_type": "code",
      "metadata": {
        "id": "8vYqdPGub61s",
        "outputId": "32eb8896-d3ba-4dfa-b3ee-9bb4d7f3bf9a"
      },
      "source": [
        "!hadoop jar /opt/hadoop-3.2.0/share/hadoop/tools/lib/hadoop-*streaming*.jar -files mapper_invert.py,reducer_invert.py -mapper mapper_invert.py -reducer reducer_invert.py -input web.txt -output results_invert"
      ],
      "execution_count": null,
      "outputs": [
        {
          "output_type": "stream",
          "text": [
            "2020-10-13 09:00:10,429 INFO impl.MetricsConfig: Loaded properties from hadoop-metrics2.properties\n",
            "2020-10-13 09:00:10,534 INFO impl.MetricsSystemImpl: Scheduled Metric snapshot period at 10 second(s).\n",
            "2020-10-13 09:00:10,534 INFO impl.MetricsSystemImpl: JobTracker metrics system started\n",
            "2020-10-13 09:00:10,556 WARN impl.MetricsSystemImpl: JobTracker metrics system already initialized!\n",
            "2020-10-13 09:00:10,728 INFO mapred.FileInputFormat: Total input files to process : 1\n",
            "2020-10-13 09:00:10,749 INFO mapreduce.JobSubmitter: number of splits:1\n",
            "2020-10-13 09:00:10,944 INFO mapreduce.JobSubmitter: Submitting tokens for job: job_local1189265606_0001\n",
            "2020-10-13 09:00:10,944 INFO mapreduce.JobSubmitter: Executing with tokens: []\n",
            "2020-10-13 09:00:11,274 INFO mapred.LocalDistributedCacheManager: Localized file:/home/jovyan/work/mapper_invert.py as file:/tmp/hadoop-jovyan/mapred/local/job_local1189265606_0001_b7c32206-6cdc-401f-bcb5-d97e42b968fc/mapper_invert.py\n",
            "2020-10-13 09:00:11,294 INFO mapred.LocalDistributedCacheManager: Localized file:/home/jovyan/work/reducer_invert.py as file:/tmp/hadoop-jovyan/mapred/local/job_local1189265606_0001_727b4e3e-3fab-43bc-923a-2bd7dec8ca0d/reducer_invert.py\n",
            "2020-10-13 09:00:11,413 INFO mapreduce.Job: The url to track the job: http://localhost:8080/\n",
            "2020-10-13 09:00:11,415 INFO mapreduce.Job: Running job: job_local1189265606_0001\n",
            "2020-10-13 09:00:11,421 INFO mapred.LocalJobRunner: OutputCommitter set in config null\n",
            "2020-10-13 09:00:11,424 INFO mapred.LocalJobRunner: OutputCommitter is org.apache.hadoop.mapred.FileOutputCommitter\n",
            "2020-10-13 09:00:11,431 INFO output.FileOutputCommitter: File Output Committer Algorithm version is 2\n",
            "2020-10-13 09:00:11,431 INFO output.FileOutputCommitter: FileOutputCommitter skip cleanup _temporary folders under output directory:false, ignore cleanup failures: false\n",
            "2020-10-13 09:00:11,483 INFO mapred.LocalJobRunner: Waiting for map tasks\n",
            "2020-10-13 09:00:11,486 INFO mapred.LocalJobRunner: Starting task: attempt_local1189265606_0001_m_000000_0\n",
            "2020-10-13 09:00:11,519 INFO output.FileOutputCommitter: File Output Committer Algorithm version is 2\n",
            "2020-10-13 09:00:11,519 INFO output.FileOutputCommitter: FileOutputCommitter skip cleanup _temporary folders under output directory:false, ignore cleanup failures: false\n",
            "2020-10-13 09:00:11,539 INFO mapred.Task:  Using ResourceCalculatorProcessTree : [ ]\n",
            "2020-10-13 09:00:11,558 INFO mapred.MapTask: Processing split: file:/home/jovyan/work/web.txt:0+11758533\n",
            "2020-10-13 09:00:11,572 INFO mapred.MapTask: numReduceTasks: 1\n",
            "2020-10-13 09:00:11,653 INFO mapred.MapTask: (EQUATOR) 0 kvi 26214396(104857584)\n",
            "2020-10-13 09:00:11,654 INFO mapred.MapTask: mapreduce.task.io.sort.mb: 100\n",
            "2020-10-13 09:00:11,654 INFO mapred.MapTask: soft limit at 83886080\n",
            "2020-10-13 09:00:11,654 INFO mapred.MapTask: bufstart = 0; bufvoid = 104857600\n",
            "2020-10-13 09:00:11,654 INFO mapred.MapTask: kvstart = 26214396; length = 6553600\n",
            "2020-10-13 09:00:11,657 INFO mapred.MapTask: Map output collector class = org.apache.hadoop.mapred.MapTask$MapOutputBuffer\n",
            "2020-10-13 09:00:11,666 INFO streaming.PipeMapRed: PipeMapRed exec [/home/jovyan/work/./mapper_invert.py]\n",
            "2020-10-13 09:00:11,674 INFO Configuration.deprecation: mapred.work.output.dir is deprecated. Instead, use mapreduce.task.output.dir\n",
            "2020-10-13 09:00:11,675 INFO Configuration.deprecation: map.input.start is deprecated. Instead, use mapreduce.map.input.start\n",
            "2020-10-13 09:00:11,676 INFO Configuration.deprecation: mapred.task.is.map is deprecated. Instead, use mapreduce.task.ismap\n",
            "2020-10-13 09:00:11,676 INFO Configuration.deprecation: mapred.task.id is deprecated. Instead, use mapreduce.task.attempt.id\n",
            "2020-10-13 09:00:11,677 INFO Configuration.deprecation: mapred.tip.id is deprecated. Instead, use mapreduce.task.id\n",
            "2020-10-13 09:00:11,677 INFO Configuration.deprecation: mapred.local.dir is deprecated. Instead, use mapreduce.cluster.local.dir\n",
            "2020-10-13 09:00:11,677 INFO Configuration.deprecation: map.input.file is deprecated. Instead, use mapreduce.map.input.file\n",
            "2020-10-13 09:00:11,678 INFO Configuration.deprecation: mapred.skip.on is deprecated. Instead, use mapreduce.job.skiprecords\n",
            "2020-10-13 09:00:11,678 INFO Configuration.deprecation: map.input.length is deprecated. Instead, use mapreduce.map.input.length\n",
            "2020-10-13 09:00:11,678 INFO Configuration.deprecation: mapred.job.id is deprecated. Instead, use mapreduce.job.id\n",
            "2020-10-13 09:00:11,678 INFO Configuration.deprecation: user.name is deprecated. Instead, use mapreduce.job.user.name\n",
            "2020-10-13 09:00:11,679 INFO Configuration.deprecation: mapred.task.partition is deprecated. Instead, use mapreduce.task.partition\n",
            "2020-10-13 09:00:11,716 INFO streaming.PipeMapRed: R/W/S=1/0/0 in:NA [rec/s] out:NA [rec/s]\n",
            "2020-10-13 09:00:11,717 INFO streaming.PipeMapRed: R/W/S=10/0/0 in:NA [rec/s] out:NA [rec/s]\n",
            "2020-10-13 09:00:11,720 INFO streaming.PipeMapRed: R/W/S=100/0/0 in:NA [rec/s] out:NA [rec/s]\n",
            "2020-10-13 09:00:11,736 INFO streaming.PipeMapRed: R/W/S=1000/0/0 in:NA [rec/s] out:NA [rec/s]\n",
            "2020-10-13 09:00:11,799 INFO streaming.PipeMapRed: Records R/W=1586/1\n",
            "2020-10-13 09:00:12,042 INFO streaming.PipeMapRed: R/W/S=10000/51601/0 in:NA [rec/s] out:NA [rec/s]\n",
            "2020-10-13 09:00:12,419 INFO mapreduce.Job: Job job_local1189265606_0001 running in uber mode : false\n",
            "2020-10-13 09:00:12,421 INFO mapreduce.Job:  map 0% reduce 0%\n",
            "2020-10-13 09:00:13,094 INFO streaming.PipeMapRed: R/W/S=100000/588773/0 in:100000=100000/1 [rec/s] out:588773=588773/1 [rec/s]\n",
            "2020-10-13 09:00:13,645 INFO streaming.PipeMapRed: MRErrorThread done\n",
            "2020-10-13 09:00:13,646 INFO streaming.PipeMapRed: mapRedFinished\n",
            "2020-10-13 09:00:13,650 INFO mapred.LocalJobRunner: \n",
            "2020-10-13 09:00:13,650 INFO mapred.MapTask: Starting flush of map output\n",
            "2020-10-13 09:00:13,650 INFO mapred.MapTask: Spilling map output\n",
            "2020-10-13 09:00:13,650 INFO mapred.MapTask: bufstart = 0; bufend = 28240518; bufvoid = 104857600\n",
            "2020-10-13 09:00:13,650 INFO mapred.MapTask: kvstart = 26214396(104857584); kvend = 22771432(91085728); length = 3442965/6553600\n",
            "2020-10-13 09:00:14,535 INFO mapred.MapTask: Finished spill 0\n",
            "2020-10-13 09:00:14,548 INFO mapred.Task: Task:attempt_local1189265606_0001_m_000000_0 is done. And is in the process of committing\n",
            "2020-10-13 09:00:14,551 INFO mapred.LocalJobRunner: Records R/W=1586/1\n",
            "2020-10-13 09:00:14,551 INFO mapred.Task: Task 'attempt_local1189265606_0001_m_000000_0' done.\n",
            "2020-10-13 09:00:14,559 INFO mapred.Task: Final Counters for attempt_local1189265606_0001_m_000000_0: Counters: 17\n",
            "\tFile System Counters\n",
            "\t\tFILE: Number of bytes read=11936296\n",
            "\t\tFILE: Number of bytes written=30660769\n",
            "\t\tFILE: Number of read operations=0\n",
            "\t\tFILE: Number of large read operations=0\n",
            "\t\tFILE: Number of write operations=0\n",
            "\tMap-Reduce Framework\n",
            "\t\tMap input records=143457\n",
            "\t\tMap output records=860742\n",
            "\t\tMap output bytes=28240518\n",
            "\t\tMap output materialized bytes=29962008\n",
            "\t\tInput split bytes=82\n",
            "\t\tCombine input records=0\n",
            "\t\tSpilled Records=860742\n",
            "\t\tFailed Shuffles=0\n",
            "\t\tMerged Map outputs=0\n",
            "\t\tGC time elapsed (ms)=0\n",
            "\t\tTotal committed heap usage (bytes)=202899456\n",
            "\tFile Input Format Counters \n",
            "\t\tBytes Read=11758533\n",
            "2020-10-13 09:00:14,559 INFO mapred.LocalJobRunner: Finishing task: attempt_local1189265606_0001_m_000000_0\n",
            "2020-10-13 09:00:14,559 INFO mapred.LocalJobRunner: map task executor complete.\n",
            "2020-10-13 09:00:14,563 INFO mapred.LocalJobRunner: Waiting for reduce tasks\n",
            "2020-10-13 09:00:14,564 INFO mapred.LocalJobRunner: Starting task: attempt_local1189265606_0001_r_000000_0\n",
            "2020-10-13 09:00:14,571 INFO output.FileOutputCommitter: File Output Committer Algorithm version is 2\n",
            "2020-10-13 09:00:14,571 INFO output.FileOutputCommitter: FileOutputCommitter skip cleanup _temporary folders under output directory:false, ignore cleanup failures: false\n",
            "2020-10-13 09:00:14,572 INFO mapred.Task:  Using ResourceCalculatorProcessTree : [ ]\n",
            "2020-10-13 09:00:14,575 INFO mapred.ReduceTask: Using ShuffleConsumerPlugin: org.apache.hadoop.mapreduce.task.reduce.Shuffle@44d8697f\n",
            "2020-10-13 09:00:14,578 WARN impl.MetricsSystemImpl: JobTracker metrics system already initialized!\n",
            "2020-10-13 09:00:14,606 INFO reduce.MergeManagerImpl: MergerManager: memoryLimit=325163424, maxSingleShuffleLimit=81290856, mergeThreshold=214607872, ioSortFactor=10, memToMemMergeOutputsThreshold=10\n",
            "2020-10-13 09:00:14,615 INFO reduce.EventFetcher: attempt_local1189265606_0001_r_000000_0 Thread started: EventFetcher for fetching Map Completion Events\n",
            "2020-10-13 09:00:14,682 INFO reduce.LocalFetcher: localfetcher#1 about to shuffle output of map attempt_local1189265606_0001_m_000000_0 decomp: 29962004 len: 29962008 to MEMORY\n",
            "2020-10-13 09:00:14,743 INFO reduce.InMemoryMapOutput: Read 29962004 bytes from map-output for attempt_local1189265606_0001_m_000000_0\n",
            "2020-10-13 09:00:14,747 INFO reduce.MergeManagerImpl: closeInMemoryFile -> map-output of size: 29962004, inMemoryMapOutputs.size() -> 1, commitMemory -> 0, usedMemory ->29962004\n",
            "2020-10-13 09:00:14,750 INFO reduce.EventFetcher: EventFetcher is interrupted.. Returning\n",
            "2020-10-13 09:00:14,751 INFO mapred.LocalJobRunner: 1 / 1 copied.\n",
            "2020-10-13 09:00:14,753 INFO reduce.MergeManagerImpl: finalMerge called with 1 in-memory map-outputs and 0 on-disk map-outputs\n",
            "2020-10-13 09:00:14,766 INFO mapred.Merger: Merging 1 sorted segments\n",
            "2020-10-13 09:00:14,767 INFO mapred.Merger: Down to the last merge-pass, with 1 segments left of total size: 29961983 bytes\n",
            "2020-10-13 09:00:15,262 INFO reduce.MergeManagerImpl: Merged 1 segments, 29962004 bytes to disk to satisfy reduce memory limit\n",
            "2020-10-13 09:00:15,262 INFO reduce.MergeManagerImpl: Merging 1 files, 29962008 bytes from disk\n",
            "2020-10-13 09:00:15,263 INFO reduce.MergeManagerImpl: Merging 0 segments, 0 bytes from memory into reduce\n",
            "2020-10-13 09:00:15,263 INFO mapred.Merger: Merging 1 sorted segments\n",
            "2020-10-13 09:00:15,264 INFO mapred.Merger: Down to the last merge-pass, with 1 segments left of total size: 29961983 bytes\n",
            "2020-10-13 09:00:15,265 INFO mapred.LocalJobRunner: 1 / 1 copied.\n",
            "2020-10-13 09:00:15,273 INFO streaming.PipeMapRed: PipeMapRed exec [/home/jovyan/work/./reducer_invert.py]\n",
            "2020-10-13 09:00:15,278 INFO Configuration.deprecation: mapred.job.tracker is deprecated. Instead, use mapreduce.jobtracker.address\n",
            "2020-10-13 09:00:15,279 INFO Configuration.deprecation: mapred.map.tasks is deprecated. Instead, use mapreduce.job.maps\n",
            "2020-10-13 09:00:15,301 INFO streaming.PipeMapRed: R/W/S=1/0/0 in:NA [rec/s] out:NA [rec/s]\n",
            "2020-10-13 09:00:15,301 INFO streaming.PipeMapRed: R/W/S=10/0/0 in:NA [rec/s] out:NA [rec/s]\n",
            "2020-10-13 09:00:15,304 INFO streaming.PipeMapRed: R/W/S=100/0/0 in:NA [rec/s] out:NA [rec/s]\n",
            "2020-10-13 09:00:15,325 INFO streaming.PipeMapRed: R/W/S=1000/0/0 in:NA [rec/s] out:NA [rec/s]\n",
            "2020-10-13 09:00:15,363 INFO streaming.PipeMapRed: R/W/S=10000/0/0 in:NA [rec/s] out:NA [rec/s]\n",
            "2020-10-13 09:00:15,425 INFO mapreduce.Job:  map 100% reduce 0%\n",
            "2020-10-13 09:00:15,651 INFO streaming.PipeMapRed: R/W/S=100000/0/0 in:NA [rec/s] out:NA [rec/s]\n",
            "2020-10-13 09:00:15,829 INFO streaming.PipeMapRed: R/W/S=200000/0/0 in:NA [rec/s] out:NA [rec/s]\n",
            "2020-10-13 09:00:16,063 INFO streaming.PipeMapRed: R/W/S=300000/0/0 in:NA [rec/s] out:NA [rec/s]\n",
            "2020-10-13 09:00:16,240 INFO streaming.PipeMapRed: R/W/S=400000/0/0 in:NA [rec/s] out:NA [rec/s]\n",
            "2020-10-13 09:00:16,413 INFO streaming.PipeMapRed: R/W/S=500000/0/0 in:500000=500000/1 [rec/s] out:0=0/1 [rec/s]\n",
            "2020-10-13 09:00:16,567 INFO streaming.PipeMapRed: R/W/S=600000/0/0 in:600000=600000/1 [rec/s] out:0=0/1 [rec/s]\n",
            "2020-10-13 09:00:16,730 INFO streaming.PipeMapRed: R/W/S=700000/0/0 in:700000=700000/1 [rec/s] out:0=0/1 [rec/s]\n",
            "2020-10-13 09:00:16,884 INFO streaming.PipeMapRed: R/W/S=800000/0/0 in:800000=800000/1 [rec/s] out:0=0/1 [rec/s]\n",
            "2020-10-13 09:00:17,004 INFO streaming.PipeMapRed: Records R/W=860742/1\n",
            "2020-10-13 09:00:17,079 INFO streaming.PipeMapRed: MRErrorThread done\n",
            "2020-10-13 09:00:17,082 INFO streaming.PipeMapRed: mapRedFinished\n",
            "2020-10-13 09:00:17,085 INFO mapred.Task: Task:attempt_local1189265606_0001_r_000000_0 is done. And is in the process of committing\n",
            "2020-10-13 09:00:17,086 INFO mapred.LocalJobRunner: 1 / 1 copied.\n",
            "2020-10-13 09:00:17,086 INFO mapred.Task: Task attempt_local1189265606_0001_r_000000_0 is allowed to commit now\n",
            "2020-10-13 09:00:17,088 INFO output.FileOutputCommitter: Saved output of task 'attempt_local1189265606_0001_r_000000_0' to file:/home/jovyan/work/results_invert\n",
            "2020-10-13 09:00:17,089 INFO mapred.LocalJobRunner: Records R/W=860742/1 > reduce\n",
            "2020-10-13 09:00:17,089 INFO mapred.Task: Task 'attempt_local1189265606_0001_r_000000_0' done.\n",
            "2020-10-13 09:00:17,091 INFO mapred.Task: Final Counters for attempt_local1189265606_0001_r_000000_0: Counters: 24\n",
            "\tFile System Counters\n",
            "\t\tFILE: Number of bytes read=71860344\n",
            "\t\tFILE: Number of bytes written=60645226\n",
            "\t\tFILE: Number of read operations=0\n",
            "\t\tFILE: Number of large read operations=0\n",
            "\t\tFILE: Number of write operations=0\n",
            "\tMap-Reduce Framework\n",
            "\t\tCombine input records=0\n",
            "\t\tCombine output records=0\n",
            "\t\tReduce input groups=60\n",
            "\t\tReduce shuffle bytes=29962008\n",
            "\t\tReduce input records=860742\n",
            "\t\tReduce output records=60\n",
            "\t\tSpilled Records=860742\n",
            "\t\tShuffled Maps =1\n",
            "\t\tFailed Shuffles=0\n",
            "\t\tMerged Map outputs=1\n",
            "\t\tGC time elapsed (ms)=94\n",
            "\t\tTotal committed heap usage (bytes)=154140672\n",
            "\tShuffle Errors\n",
            "\t\tBAD_ID=0\n",
            "\t\tCONNECTION=0\n",
            "\t\tIO_ERROR=0\n",
            "\t\tWRONG_LENGTH=0\n",
            "\t\tWRONG_MAP=0\n",
            "\t\tWRONG_REDUCE=0\n",
            "\tFile Output Format Counters \n",
            "\t\tBytes Written=22449\n",
            "2020-10-13 09:00:17,091 INFO mapred.LocalJobRunner: Finishing task: attempt_local1189265606_0001_r_000000_0\n",
            "2020-10-13 09:00:17,092 INFO mapred.LocalJobRunner: reduce task executor complete.\n",
            "2020-10-13 09:00:17,427 INFO mapreduce.Job:  map 100% reduce 100%\n",
            "2020-10-13 09:00:17,429 INFO mapreduce.Job: Job job_local1189265606_0001 completed successfully\n",
            "2020-10-13 09:00:17,459 INFO mapreduce.Job: Counters: 30\n",
            "\tFile System Counters\n",
            "\t\tFILE: Number of bytes read=83796640\n",
            "\t\tFILE: Number of bytes written=91305995\n",
            "\t\tFILE: Number of read operations=0\n",
            "\t\tFILE: Number of large read operations=0\n",
            "\t\tFILE: Number of write operations=0\n",
            "\tMap-Reduce Framework\n",
            "\t\tMap input records=143457\n",
            "\t\tMap output records=860742\n",
            "\t\tMap output bytes=28240518\n",
            "\t\tMap output materialized bytes=29962008\n",
            "\t\tInput split bytes=82\n",
            "\t\tCombine input records=0\n",
            "\t\tCombine output records=0\n",
            "\t\tReduce input groups=60\n",
            "\t\tReduce shuffle bytes=29962008\n",
            "\t\tReduce input records=860742\n",
            "\t\tReduce output records=60\n",
            "\t\tSpilled Records=1721484\n",
            "\t\tShuffled Maps =1\n",
            "\t\tFailed Shuffles=0\n",
            "\t\tMerged Map outputs=1\n",
            "\t\tGC time elapsed (ms)=94\n",
            "\t\tTotal committed heap usage (bytes)=357040128\n",
            "\tShuffle Errors\n",
            "\t\tBAD_ID=0\n",
            "\t\tCONNECTION=0\n",
            "\t\tIO_ERROR=0\n",
            "\t\tWRONG_LENGTH=0\n",
            "\t\tWRONG_MAP=0\n",
            "\t\tWRONG_REDUCE=0\n",
            "\tFile Input Format Counters \n",
            "\t\tBytes Read=11758533\n",
            "\tFile Output Format Counters \n",
            "\t\tBytes Written=22449\n",
            "2020-10-13 09:00:17,460 INFO streaming.StreamJob: Output directory: results_invert\n"
          ],
          "name": "stdout"
        }
      ]
    },
    {
      "cell_type": "code",
      "metadata": {
        "id": "n00SCmZEb61v",
        "outputId": "ebe2e37e-ad7b-471e-f635-10133fb88ba8"
      },
      "source": [
        "!cat results_invert/part-*"
      ],
      "execution_count": null,
      "outputs": [
        {
          "output_type": "stream",
          "text": [
            "2016-12-06T10:01:4\tset(['106.37.189.69', '123.127.217.155'])\r\n",
            "2016-12-06T10:02:5\tset(['222.35.13.232', '106.37.189.69', '123.127.217.155'])\r\n",
            "2016-12-06T10:01:5\tset(['106.37.189.69', '123.127.217.155'])\r\n",
            "2016-12-06T09:55:3\tset(['88.157.128.134'])\r\n",
            "2016-12-06T10:02:0\tset(['106.37.189.69', '123.127.217.155'])\r\n",
            "2016-12-06T10:02:4\tset(['222.35.13.232', '106.37.189.69', '123.127.217.155'])\r\n",
            "2016-12-06T09:00:5\tset(['2602:ff62:104:7c9:8000::', '114.215.150.13', '178.22.148.122', '71.183.112.122', '123.207.96.93', '182.35.20.128', '101.200.154.90', '103.1.236.112', '61.132.241.109', '97.77.104.22', '200.168.250.196', '2002:894a:3a93:d:250:56ff:fe00:88c0', '217.61.2.106', '200.7.160.61', '202.47.236.252', '211.140.26.58', '46.14.171.138', '181.215.103.234', '109.238.227.27', '2001:41d0:a:2417::1', '125.31.1.27', '202.106.16.36', '185.15.43.51', '2a01:488:66:1000:5c33:8503:0:1', '192.241.151.220', '41.76.44.76', '120.25.166.134', '41.169.97.106', '177.54.250.18', '37.139.9.11', '201.18.115.114', '2001:41d0:8:e7b5::1', '94.177.171.187', '207.249.125.35', '189.206.33.130', '2a02:c207:2008:5497::1', '185.28.193.95', '119.29.183.143', '67.205.145.108', '120.52.73.97', '2a02:c207:2008:5973::1', '89.238.130.58', '120.52.73.98', '2a02:c207:2008:5757::1'])\r\n",
            "2016-12-06T09:00:4\tset(['2602:ff62:104:7c9:8000::', '114.215.150.13', '178.22.148.122', '81.169.232.7', '202.170.126.68', '198.50.206.0', '182.35.20.128', '118.178.86.82', '61.132.241.109', '97.77.104.22', '2001:41d0:8:e7b5::1', '2a02:c207:2008:5497::1', '177.159.113.114', '200.7.160.61', '202.47.236.252', '211.140.26.58', '46.14.171.138', '109.238.227.27', '123.30.108.67', '2001:41d0:a:2417::1', '125.31.1.27', '202.106.16.36', '185.15.43.51', '2a01:488:66:1000:5c33:8503:0:1', '192.241.151.220', '41.169.97.106', '71.183.112.122', '177.54.250.18', '123.207.96.93', '201.18.115.114', '200.168.250.196', '94.177.171.187', '175.41.139.245', '180.234.223.91', '189.206.33.130', '2002:894a:3a93:d:250:56ff:fe00:88c0', '96.234.43.134', '185.28.193.95', '120.52.73.97', '2a02:c207:2008:5757::1', '89.238.130.58', '120.52.73.98', '2a02:c207:2008:5973::1'])\r\n",
            "2016-12-06T09:00:1\tset(['2602:ff62:104:7c9:8000::', '114.215.150.13', '177.220.156.58', '178.22.148.122', '202.170.126.68', '198.50.206.0', '182.35.20.128', '118.178.86.82', '61.132.241.109', '97.77.104.22', '2001:41d0:8:e7b5::1', '2a02:c207:2008:5497::1', '192.81.220.47', '202.47.236.252', '125.31.1.27', '181.215.103.234', '177.54.250.18', '2001:41d0:a:2417::1', '211.140.26.58', '202.106.16.36', '185.15.43.51', '2a01:488:66:1000:5c33:8503:0:1', '192.241.151.220', '41.169.97.106', '2001:41d0:1004:2670::', '109.238.227.27', '201.18.115.114', '52.50.2.169', '94.177.171.187', '175.41.139.245', '189.206.33.130', '185.28.193.95', '120.52.73.97', '2a02:c207:2008:5757::1', '202.98.152.252', '89.238.130.58', '120.52.73.98', '117.176.62.148', '2a02:c207:2008:5973::1'])\r\n",
            "2016-12-06T09:00:0\tset(['2602:ff62:104:7c9:8000::', '114.215.150.13', '178.22.148.122', '202.170.126.68', '185.15.43.51', '182.35.20.128', '118.178.86.82', '61.132.241.109', '201.18.115.114', '52.50.2.169', '2a02:c207:2008:5497::1', '202.47.236.252', '125.31.1.27', '46.14.171.138', '109.238.227.27', '123.30.108.67', '2001:41d0:a:2417::1', '211.140.26.58', '202.106.16.36', '198.50.206.0', '2a01:488:66:1000:5c33:8503:0:1', '192.241.151.220', '41.169.97.106', '177.54.250.18', '97.77.104.22', '2001:41d0:8:e7b5::1', '94.177.171.187', '189.206.33.130', '2002:894a:3a93:d:250:56ff:fe00:88c0', '185.28.193.95', '67.205.145.108', '120.52.73.97', '2a02:c207:2008:5757::1', '89.238.130.58', '120.52.73.98', '2a02:c207:2008:5973::1'])\r\n",
            "2016-12-06T09:00:3\tset(['2602:ff62:104:7c9:8000::', '114.215.150.13', '178.22.148.122', '202.170.126.68', '185.15.43.51', '182.35.20.128', '61.132.241.109', '97.77.104.22', '2001:41d0:8:e7b5::1', '2a02:c207:2008:5497::1', '202.47.236.252', '211.140.26.58', '14.152.90.148', '46.14.171.138', '181.215.103.234', '177.54.250.18', '123.30.108.67', '2001:41d0:a:2417::1', '125.31.1.27', '202.106.16.36', '198.50.206.0', '2a01:488:66:1000:5c33:8503:0:1', '192.241.151.220', '41.169.97.106', '109.238.227.27', '201.18.115.114', '94.177.171.187', '175.41.139.245', '189.206.33.130', '185.28.193.95', '120.52.73.97', '2a02:c207:2008:5757::1', '89.238.130.58', '120.52.73.98', '2a02:c207:2008:5973::1'])\r\n",
            "2016-12-06T09:00:2\tset(['2602:ff62:104:7c9:8000::', '178.22.148.122', '81.169.232.7', '202.170.126.68', '185.15.43.51', '182.35.20.128', '118.178.86.82', '61.132.241.109', '201.18.115.114', '2001:41d0:8:e7b5::1', '2a02:c207:2008:5497::1', '202.47.236.252', '125.31.1.27', '181.215.103.234', '109.238.227.27', '2001:41d0:a:2417::1', '211.140.26.58', '202.106.16.36', '198.50.206.0', '2a01:488:66:1000:5c33:8503:0:1', '192.241.151.220', '41.169.97.106', '177.54.250.18', '97.77.104.22', '94.177.171.187', '175.41.139.245', '189.206.33.130', '185.28.193.95', '67.205.145.108', '120.52.73.97', '2a02:c207:2008:5757::1', '89.238.130.58', '120.52.73.98', '2a02:c207:2008:5973::1'])\r\n",
            "2016-12-06T09:01:0\tset(['2602:ff62:104:7c9:8000::', '203.70.11.180', '114.215.150.13', '13.67.211.33', '178.22.148.122', '2a02:c207:2009:3128::1', '202.170.126.68', '90.152.38.178', '212.166.53.168', '5.135.204.121', '182.35.20.128', '52.50.2.169', '101.200.154.90', '61.132.241.109', '201.18.115.114', '200.168.250.196', '2a02:c207:2008:5497::1', '2404:8000:90:1:42f2:e9ff:fe32:7928', '177.159.113.114', '200.7.160.61', '202.47.236.252', '211.140.26.58', '46.14.171.138', '177.54.250.18', '119.29.119.49', '125.31.1.27', '202.106.16.36', '185.15.43.51', '2a01:488:66:1000:5c33:8503:0:1', '192.241.151.220', '210.48.237.254', '177.89.161.223', '41.76.44.76', '120.25.166.134', '187.84.222.153', '41.169.97.106', '119.29.232.113', '190.15.222.55', '109.238.227.27', '123.207.96.93', '97.77.104.22', '202.107.238.51', '2001:41d0:8:e7b5::1', '77.81.226.238', '121.41.110.73', '94.177.171.187', '5.10.167.204', '173.239.197.125', '189.206.33.130', '2002:894a:3a93:d:250:56ff:fe00:88c0', '125.31.19.25', '185.28.193.95', '119.29.183.143', '67.205.145.108', '120.52.73.97', '2a02:c207:2008:5757::1', '137.74.254.198', '119.254.92.52', '89.238.130.58', '120.52.73.98', '2a02:c207:2008:5973::1', '187.60.170.22'])\r\n",
            "2016-12-06T09:01:1\tset(['2602:ff62:104:7c9:8000::', '114.215.150.13', '2001:41d0:a:2417::1', '178.22.148.122', '202.170.126.68', '198.50.206.0', '123.207.96.93', '52.50.2.169', '94.177.240.125', '182.35.20.128', '187.84.222.153', '97.77.104.22', '200.168.250.196', '91.194.42.51', '2a02:c207:2008:5497::1', '120.92.3.127', '177.159.113.114', '125.31.19.25', '202.47.236.252', '211.140.26.58', '46.14.171.138', '69.181.205.101', '109.238.227.27', '123.30.108.67', '101.200.154.90', '103.58.117.228', '119.29.119.49', '125.31.1.27', '202.106.16.36', '222.186.161.215', '185.15.43.51', '2a01:488:66:1000:5c33:8503:0:1', '192.241.151.220', '203.70.11.180', '41.76.44.76', '120.25.166.134', '191.102.89.10', '41.169.97.106', '119.29.232.113', '5.196.58.88', '190.15.222.55', '177.54.250.18', '175.41.139.245', '201.18.115.114', '202.107.238.51', '2001:41d0:8:e7b5::1', '177.89.161.223', '94.177.171.187', '5.10.167.204', '173.239.197.125', '189.206.33.130', '2002:894a:3a93:d:250:56ff:fe00:88c0', '103.27.118.146', '185.28.193.95', '119.29.183.143', '67.205.145.108', '120.52.73.97', '137.74.254.198', '119.254.92.52', '89.238.130.58', '120.52.73.98', '2a02:c207:2008:5973::1', '187.60.170.22'])\r\n",
            "2016-12-06T09:01:2\tset(['2602:ff62:104:7c9:8000::', '114.215.150.13', '2001:41d0:8:11c6::', '13.67.211.33', '178.22.148.122', '139.199.158.169', '202.170.126.68', '90.152.38.178', '2001:41d0:8:e7b5::1', '212.166.53.168', '94.177.240.125', '182.35.20.128', '101.200.154.90', '151.80.197.192', '61.132.241.109', '97.77.104.22', '200.168.250.196', '120.25.166.134', '2a02:c207:2008:5497::1', '120.92.3.127', '125.31.19.25', '202.47.236.252', '184.49.237.6', '211.140.26.58', '46.14.171.138', '113.185.19.192', '177.54.250.18', '123.30.108.67', '2001:41d0:a:2417::1', '41.76.44.76', '125.31.1.27', '202.106.16.36', '185.15.43.51', '192.241.151.220', '203.70.11.180', '77.81.226.238', '79.104.50.62', '190.15.222.55', '191.102.89.10', '41.169.97.106', '119.29.232.113', '5.196.58.88', '109.238.227.27', '123.207.96.93', '43.243.112.113', '201.18.115.114', '202.107.238.51', '52.50.2.169', '177.89.161.223', '94.177.171.187', '5.10.167.204', '123.30.75.115', '189.206.33.130', '2002:894a:3a93:d:250:56ff:fe00:88c0', '119.29.119.49', '185.28.193.95', '118.70.212.142', '122.155.222.98', '120.52.73.97', '2a02:c207:2008:5973::1', '2404:8000:90:1:42f2:e9ff:fe32:7928', '187.60.170.22', '119.254.92.52', '89.238.130.58', '120.52.73.98', '2a02:c207:2008:5757::1', '173.239.197.125'])\r\n",
            "2016-12-06T09:01:3\tset(['2602:ff62:104:7c9:8000::', '114.215.150.13', '2001:41d0:a:2417::1', '178.22.148.122', '163.172.67.180', '139.199.158.169', '202.170.126.68', '198.50.206.0', '2a00:6d40:60:6a2e::1', '212.166.53.168', '50.53.181.45', '182.35.20.128', '101.200.154.90', '125.31.19.25', '97.77.104.22', '116.93.119.36', '200.168.250.196', '2a02:c207:2008:5497::1', '109.238.227.27', '190.112.111.245', '120.92.3.127', '165.231.0.242', '123.30.238.16', '202.47.236.252', '184.49.237.6', '211.140.26.58', '46.14.171.138', '95.128.43.164', '177.54.250.18', '123.30.108.67', '138.197.28.136', '41.76.44.76', '41.160.187.186', '119.254.92.52', '202.106.16.36', '118.178.188.177', '222.186.161.215', '185.15.43.51', '192.241.151.220', '203.70.11.180', '167.114.89.195', '79.104.50.62', '120.25.166.134', '61.132.241.109', '187.84.222.153', '119.29.232.113', '5.196.58.88', '85.143.210.233', '13.67.211.33', '123.207.96.93', '201.18.115.114', '113.185.19.192', '2001:41d0:8:e7b5::1', '177.89.161.223', '94.177.171.187', '175.41.139.245', '173.239.197.125', '123.30.75.115', '189.206.33.130', '119.29.119.49', '185.28.193.95', '118.70.212.142', '120.52.73.97', '2a02:c207:2008:5757::1', '137.74.254.198', '202.29.221.90', '120.52.73.98', '89.191.131.243', '2a02:c207:2008:5973::1', '190.15.222.55'])\r\n",
            "2016-12-06T09:01:4\tset(['2602:ff62:104:7c9:8000::', '209.133.66.214', '200.29.191.149', '50.53.181.45', '13.67.211.33', '52.65.134.56', '178.22.148.122', '2a02:c207:2009:3128::1', '163.172.67.180', '81.168.48.231', '202.170.126.68', '187.60.219.248', '198.50.206.0', '122.224.227.202', '212.166.53.168', '182.35.20.128', '151.80.197.192', '118.70.212.142', '200.168.250.196', '120.25.166.134', '2a02:c207:2008:5497::1', '190.112.111.245', '120.92.3.127', '120.55.83.30', '202.47.236.252', '184.49.237.6', '211.140.26.58', '14.152.90.148', '46.14.171.138', '109.238.227.27', '123.30.108.67', '41.160.187.186', '103.58.117.228', '41.76.44.76', '202.106.16.36', '118.178.188.177', '185.15.43.51', '187.84.222.153', '203.70.11.180', '185.38.14.215', '69.162.139.9', '79.104.50.62', '190.15.222.55', '191.102.89.10', '41.169.97.106', '119.29.232.113', '5.196.58.88', '71.183.112.122', '177.54.250.18', '139.199.158.169', '123.207.96.93', '43.243.112.113', '201.18.115.114', '202.107.238.51', '2001:41d0:8:e7b5::1', '64.134.242.54', '177.89.161.223', '2001:41d0:a:2417::1', '5.10.167.204', '91.194.42.51', '123.30.75.115', '180.234.223.91', '89.191.131.243', '94.177.171.187', '185.28.193.95', '114.215.150.13', '67.205.145.108', '120.52.73.97', '2a02:c207:2008:5757::1', '120.52.73.98', '189.206.33.130', '2a02:c207:2008:5973::1', '173.239.197.125'])\r\n",
            "2016-12-06T09:01:5\tset(['2602:ff62:104:7c9:8000::', '50.53.181.45', '115.248.237.77', '52.65.134.56', '178.22.148.122', '2a02:c207:2009:3128::1', '139.199.158.169', '202.170.126.68', '202.162.214.118', '88.198.110.130', '212.166.53.168', '5.135.204.121', '191.96.5.142', '182.35.20.128', '151.80.197.192', '61.132.241.109', '51.255.199.243', '200.168.250.196', '91.194.42.51', '2a02:c207:2008:5497::1', '109.238.227.27', '122.155.222.98', '13.69.251.167', '120.92.3.127', '177.159.113.114', '92.60.126.169', '202.47.236.252', '184.49.237.6', '106.255.232.130', '187.190.248.173', '211.140.26.58', '46.14.171.138', '177.54.250.18', '123.30.108.67', '41.160.187.186', '119.29.119.49', '202.106.16.36', '54.249.6.200', '185.15.43.51', '109.234.35.229', '203.70.11.180', '77.81.226.238', '41.76.44.76', '120.25.166.134', '191.102.89.10', '41.169.97.106', '119.29.232.113', '128.199.215.91', '5.196.58.88', '71.183.112.122', '43.243.112.113', '123.207.96.93', '201.18.115.114', '202.107.238.51', '2001:41d0:8:e7b5::1', '79.104.50.62', '177.89.161.223', '103.18.4.13', '2001:41d0:a:2417::1', '175.41.139.245', '123.30.75.115', '189.206.33.130', '96.234.43.134', '185.28.193.95', '192.25.162.203', '120.52.73.97', '222.186.161.215', '122.154.227.70', '120.52.73.98', '89.191.131.243', '2a02:c207:2008:5973::1'])\r\n",
            "2016-12-06T09:04:1\tset(['189.206.33.130'])\r\n",
            "2016-12-06T09:04:0\tset(['189.206.33.130'])\r\n",
            "2016-12-06T09:04:2\tset(['189.206.33.130'])\r\n",
            "2016-12-06T09:05:0\tset(['189.206.33.130'])\r\n",
            "2016-12-06T09:04:4\tset(['189.206.33.130'])\r\n",
            "2016-12-06T10:02:3\tset(['222.35.13.232', '106.37.189.69', '123.127.217.155'])\r\n",
            "2016-12-06T10:02:2\tset(['222.35.13.232', '106.37.189.69', '123.127.217.155'])\r\n",
            "2016-12-06T10:03:0\tset(['106.37.189.69', '123.127.217.155'])\r\n",
            "2016-12-06T10:02:1\tset(['222.35.13.232', '106.37.189.69', '123.127.217.155'])\r\n",
            "2016-12-06T10:03:2\tset(['106.37.189.69', '123.127.217.155'])\r\n",
            "2016-12-06T10:01:0\tset(['222.35.13.232', '106.37.189.69', '123.127.217.155'])\r\n",
            "2016-12-06T09:03:2\tset(['185.15.42.51'])\r\n",
            "2016-12-06T09:03:3\tset(['185.15.42.51'])\r\n",
            "2016-12-06T09:25:5\tset(['222.35.13.232', '106.37.189.69'])\r\n",
            "2016-12-06T09:03:5\tset(['118.178.86.82', '189.206.33.130'])\r\n",
            "2016-12-06T09:32:2\tset(['64.74.215.139'])\r\n",
            "2016-12-06T10:01:2\tset(['222.35.13.232', '106.37.189.69', '123.127.217.155'])\r\n",
            "2016-12-06T10:01:3\tset(['222.35.13.232', '106.37.189.69', '123.127.217.155'])\r\n",
            "2016-12-06T09:02:5\tset(['177.54.250.18'])\r\n",
            "2016-12-06T09:02:4\tset(['177.89.161.223', '185.69.154.59', '163.172.160.182', '200.168.250.196', '177.54.250.18'])\r\n",
            "2016-12-06T09:02:3\tset(['177.89.161.223', '124.42.7.103', '41.76.44.76', '120.52.73.97', '109.238.227.27', '177.54.250.18'])\r\n",
            "2016-12-06T09:02:2\tset(['177.89.161.223', '123.30.75.115', '124.42.7.103', '41.76.44.76', '178.22.148.122', '82.146.37.33', '202.170.126.68', '46.14.171.138', '185.15.42.51', '177.54.250.18', '185.69.154.59', '201.18.115.114', '189.206.33.130'])\r\n",
            "2016-12-06T09:02:1\tset(['178.22.148.122', '202.170.126.68', '85.194.241.205', '182.35.20.128', '91.194.42.51', '2a02:c207:2008:5497::1', '190.112.111.245', '120.92.3.127', '177.159.113.114', '202.47.236.252', '184.49.237.6', '2a02:c205:2008:9547::1', '46.14.171.138', '185.15.42.51', '109.238.227.27', '2001:41d0:a:2417::1', '209.66.119.150', '119.29.119.49', '185.15.43.51', '41.76.44.76', '82.146.37.33', '41.169.97.106', '177.54.250.18', '185.69.154.59', '201.18.115.114', '177.89.161.223', '204.8.156.142', '123.30.75.115', '189.206.33.130', '120.52.73.97', '122.154.227.70', '202.29.221.90', '120.52.73.98', '89.191.131.243', '2a02:c207:2008:5973::1'])\r\n",
            "2016-12-06T09:02:0\tset(['50.53.181.45', '52.57.198.130', '43.243.112.113', '178.22.148.122', '163.172.160.182', '139.199.158.169', '121.199.40.205', '202.170.126.68', '198.50.206.0', '85.194.241.205', '182.35.20.128', '192.42.116.16', '61.132.241.109', '2001:41d0:8:e7b5::1', '91.194.42.51', '2a02:c207:2008:5497::1', '190.112.111.245', '120.92.3.127', '120.55.83.30', '202.47.236.252', '184.49.237.6', '106.255.232.130', '211.140.26.58', '46.14.171.138', '177.54.250.18', '123.30.108.67', '2001:41d0:a:2417::1', '209.66.119.150', '103.27.118.146', '54.249.6.200', '185.15.43.51', '2a01:488:66:1000:5c33:8503:0:1', '187.84.222.153', '210.91.48.122', '41.76.44.76', '190.15.222.55', '59.51.27.213', '191.102.89.10', '2a02:c205:2008:9547::1', '128.199.215.91', '109.238.227.27', '123.207.96.93', '41.220.28.138', '201.18.115.114', '113.185.19.192', '200.168.250.196', '177.89.161.223', '94.177.171.187', '123.30.75.115', '103.58.117.228', '189.206.33.130', '148.245.105.25', '120.52.73.97', '2a02:c207:2008:5757::1', '92.222.107.50', '122.154.227.70', '37.187.129.166', '120.52.73.98', '89.191.131.243', '2a02:c207:2008:5973::1', '173.239.197.125'])\r\n",
            "2016-12-06T09:27:0\tset(['222.35.13.232', '106.37.189.69'])\r\n",
            "2016-12-06T08:58:5\tset(['2602:ff62:104:7c9:8000::', '195.225.123.14', '120.52.73.98', '178.22.148.122', '118.178.86.82', '61.132.241.109', '201.18.115.114', '2001:41d0:8:e7b5::1', '2002:894a:3a93:d:250:56ff:fe00:88c0', '202.47.236.252', '128.199.215.91', '125.31.1.27', '2001:41d0:a:2417::1', '211.140.26.58', '202.106.16.36', '198.50.206.0', '2a01:488:66:1000:5c33:8503:0:1', '192.241.151.220', '82.146.37.33', '97.77.104.22', '2001:41d0:1004:2670::', '180.234.223.91', '189.206.33.130', '2a02:c207:2008:5497::1', '185.28.193.95', '217.61.2.106', '120.52.73.97', '202.98.152.252', '92.222.108.219', '94.177.171.187', '2a02:c207:2008:5973::1'])\r\n",
            "2016-12-06T08:58:4\tset(['2602:ff62:104:7c9:8000::', '195.225.123.14', '114.215.150.13', '178.22.148.122', '118.178.86.82', '97.77.104.22', '2001:41d0:8:e7b5::1', '2a02:c207:2008:5497::1', '202.47.236.252', '125.31.1.27', '211.140.26.58', '202.106.16.36', '2a01:488:66:1000:5c33:8503:0:1', '192.241.151.220', '41.169.97.106', '2001:41d0:1004:2670::', '37.139.9.11', '201.18.115.114', '94.177.171.187', '189.206.33.130', '2002:894a:3a93:d:250:56ff:fe00:88c0', '185.28.193.95', '31.14.134.193', '120.52.73.97', '2a02:c207:2008:5757::1', '92.222.108.219', '120.52.73.98', '2a02:c207:2008:5973::1'])\r\n",
            "2016-12-06T10:03:1\tset(['222.35.13.232', '106.37.189.69', '123.127.217.155'])\r\n",
            "2016-12-06T08:58:3\tset(['2602:ff62:104:7c9:8000::', '202.106.16.36', '120.52.73.98', '2a01:488:66:1000:5c33:8503:0:1', '192.241.151.220', '2002:894a:3a93:d:250:56ff:fe00:88c0', '2a02:c207:2008:5497::1', '178.22.148.122', '94.177.171.187', '185.28.193.95', '202.47.236.252', '120.52.73.97', '211.140.26.58', '37.139.9.11', '97.77.104.22', '125.31.1.27'])\r\n",
            "2016-12-06T08:59:0\tset(['2602:ff62:104:7c9:8000::', '195.225.123.14', '178.22.148.122', '202.170.126.68', '185.15.43.51', '201.18.115.114', '2001:41d0:8:e7b5::1', '2a02:c207:2008:5497::1', '202.47.236.252', '211.140.26.58', '46.14.171.138', '109.238.227.27', '123.30.108.67', '2001:41d0:a:2417::1', '125.31.1.27', '202.106.16.36', '198.50.206.0', '2a01:488:66:1000:5c33:8503:0:1', '192.241.151.220', '82.146.37.33', '41.169.97.106', '123.207.96.93', '97.77.104.22', '125.31.19.25', '2001:41d0:1004:2670::', '175.41.139.245', '180.234.223.91', '189.206.33.130', '94.177.171.187', '185.28.193.95', '31.14.134.193', '120.52.73.97', '2a02:c207:2008:5757::1', '202.98.152.252', '120.52.73.98', '2a02:c207:2008:5973::1'])\r\n",
            "2016-12-06T08:59:1\tset(['2602:ff62:104:7c9:8000::', '114.215.150.13', '178.22.148.122', '198.50.206.0', '182.35.20.128', '61.132.241.109', '201.18.115.114', '2001:41d0:8:e7b5::1', '2a02:c207:2008:5497::1', '177.159.113.114', '202.47.236.252', '128.199.215.91', '211.140.26.58', '109.238.227.27', '123.30.108.67', '2001:41d0:a:2417::1', '125.31.1.27', '202.106.16.36', '185.15.43.51', '2a01:488:66:1000:5c33:8503:0:1', '192.241.151.220', '123.207.96.93', '97.77.104.22', '125.31.19.25', '81.169.232.7', '175.41.139.245', '180.234.223.91', '189.206.33.130', '2002:894a:3a93:d:250:56ff:fe00:88c0', '185.28.193.95', '67.205.145.108', '120.52.73.97', '202.98.152.252', '89.238.130.58', '120.52.73.98', '2a02:c207:2008:5973::1'])\r\n",
            "2016-12-06T08:59:2\tset(['2602:ff62:104:7c9:8000::', '178.22.148.122', '202.170.126.68', '182.35.20.128', '97.77.104.22', '2001:41d0:8:e7b5::1', '2a02:c207:2008:5497::1', '202.47.236.252', '128.199.215.91', '125.31.1.27', '109.238.227.27', '2001:41d0:a:2417::1', '211.140.26.58', '202.106.16.36', '198.50.206.0', '2a01:488:66:1000:5c33:8503:0:1', '192.241.151.220', '41.169.97.106', '2001:41d0:1004:2670::', '201.18.115.114', '125.31.19.25', '94.177.171.187', '189.206.33.130', '2002:894a:3a93:d:250:56ff:fe00:88c0', '185.28.193.95', '217.61.2.106', '120.52.73.97', '2a02:c207:2008:5973::1', '202.98.152.252', '89.238.130.58', '120.52.73.98', '2a02:c207:2008:5757::1'])\r\n",
            "2016-12-06T08:59:3\tset(['2602:ff62:104:7c9:8000::', '114.215.150.13', '2001:41d0:a:2417::1', '178.22.148.122', '202.170.126.68', '182.35.20.128', '61.132.241.109', '97.77.104.22', '2001:41d0:8:e7b5::1', '2a02:c207:2008:5497::1', '177.159.113.114', '202.47.236.252', '125.31.1.27', '181.215.103.234', '109.238.227.27', '81.169.232.7', '211.140.26.58', '202.106.16.36', '198.50.206.0', '2a01:488:66:1000:5c33:8503:0:1', '2001:41d0:1004:2670::', '123.207.96.93', '201.18.115.114', '125.31.19.25', '94.177.171.187', '180.234.223.91', '189.206.33.130', '185.28.193.95', '120.52.73.97', '2a02:c207:2008:5757::1', '89.238.130.58', '120.52.73.98', '2a02:c207:2008:5973::1'])\r\n",
            "2016-12-06T08:59:4\tset(['2602:ff62:104:7c9:8000::', '178.22.148.122', '182.35.20.128', '118.178.86.82', '61.132.241.109', '201.18.115.114', '2001:41d0:8:e7b5::1', '2002:894a:3a93:d:250:56ff:fe00:88c0', '177.159.113.114', '202.47.236.252', '125.31.1.27', '109.238.227.27', '123.30.108.67', '2001:41d0:a:2417::1', '211.140.26.58', '202.106.16.36', '2a01:488:66:1000:5c33:8503:0:1', '192.241.151.220', '41.169.97.106', '123.207.96.93', '97.77.104.22', '125.31.19.25', '52.50.2.169', '94.177.171.187', '175.41.139.245', '180.234.223.91', '189.206.33.130', '2a02:c207:2008:5497::1', '185.28.193.95', '120.52.73.97', '2a02:c207:2008:5757::1', '89.238.130.58', '120.52.73.98', '2a02:c207:2008:5973::1'])\r\n",
            "2016-12-06T08:59:5\tset(['2602:ff62:104:7c9:8000::', '178.22.148.122', '182.35.20.128', '118.178.86.82', '61.132.241.109', '97.77.104.22', '52.50.2.169', '2a02:c207:2008:5497::1', '202.47.236.252', '128.199.215.91', '125.31.1.27', '109.238.227.27', '123.30.108.67', '2001:41d0:a:2417::1', '211.140.26.58', '202.106.16.36', '198.50.206.0', '2a01:488:66:1000:5c33:8503:0:1', '192.241.151.220', '41.169.97.106', '177.54.250.18', '201.18.115.114', '125.31.19.25', '2001:41d0:8:e7b5::1', '94.177.171.187', '189.206.33.130', '185.28.193.95', '217.61.2.106', '67.205.145.108', '120.52.73.97', '2a02:c207:2008:5973::1', '89.238.130.58', '120.52.73.98', '2a02:c207:2008:5757::1'])\r\n",
            "2016-12-06T10:01:1\tset(['222.35.13.232', '106.37.189.69', '123.127.217.155'])\r\n",
            "2016-12-06T09:26:1\tset(['222.35.13.232', '106.37.189.69'])\r\n",
            "2016-12-06T09:26:0\tset(['222.35.13.232'])\r\n",
            "2016-12-06T09:26:3\tset(['222.35.13.232', '106.37.189.69'])\r\n",
            "2016-12-06T09:26:2\tset(['222.35.13.232', '106.37.189.69'])\r\n",
            "2016-12-06T09:26:5\tset(['222.35.13.232', '106.37.189.69'])\r\n",
            "2016-12-06T09:26:4\tset(['222.35.13.232', '106.37.189.69'])\r\n"
          ],
          "name": "stdout"
        }
      ]
    },
    {
      "cell_type": "code",
      "metadata": {
        "id": "PA37cft4b61x"
      },
      "source": [
        ""
      ],
      "execution_count": null,
      "outputs": []
    }
  ]
}